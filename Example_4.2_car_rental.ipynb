{
 "cells": [
  {
   "cell_type": "markdown",
   "metadata": {},
   "source": [
    "這邊利用課本中的範例4.2來說明策略迭代的過程，程式碼主要參考的是[ShangtongZhang](https://github.com/ShangtongZhang/reinforcement-learning-an-introduction/blob/master/chapter04/car_rental.py)，再加上自己理解的註解。"
   ]
  },
  {
   "cell_type": "markdown",
   "metadata": {},
   "source": [
    "Example 4.2: Jack’s Car Rental\n",
    "範例說的是，jack管理一家有兩個地點的汽車租賃公司，每天都會有人來租車。只要有車可以出租，每租一台出去就得到10元，沒車就沒搞頭。還車後的第二天，那台還回來的車就可以拿來出租。為了兩邊都有車可以用，jack會利用晚上來移動車子，每次的移動都需要2元的成本。我們假設每一個地點需求的汽車與歸還的汽車為Possion random variables([卜瓦松](https://zh.wikipedia.org/wiki/%E5%8D%9C%E7%93%A6%E6%9D%BE%E5%88%86%E5%B8%83)隨機變數)，意思就是數量$n$的機率為$\\dfrac{\\lambda^n}{n!}e^{-\\lambda}$，其中$\\lambda$是期望的數值。假設，兩地的出租需求$\\lambda$是3跟4，然後歸還的是3與2。為了稍微簡化問題，我們再假設，每個地點最多就是20台車，多的就退回總公司，因此這個問題就是最多20台，然後一個晚上最多能移動的就是5台車。我們設置discount rate $\\gamma = 0.9$，然後把這個問題弄成continuing finite MDP，time steps就是天(days)，state就是一天結束的時候每個地方擁有的汽車數量，然後actions就是晚上兩地移動的汽車的數量。Figure 4.2說明著從沒有移動任何車子的policy開始的policy iteration所找出的一系列的策略。\n",
    "\n",
    "\n",
    "![](https://i.imgur.com/d3KXJEf.png)\n",
    "Figure 4.2：Jack汽車出租問題利用策略迭代找出來的一系列的策略與最終的state-value function。前五張圖說明的是，每天結束時，每一個地點的汽車數量從一個點被移到另一個點(負值就代表從sencond location移往first location，反之，正就是從first location移到second location)。每個後續的策略(successive policy)都是從前一個策略(previous policy)嚴格改進(strict improvement)而來的，然後最後一個是optimal。"
   ]
  },
  {
   "cell_type": "markdown",
   "metadata": {},
   "source": [
    "載入需求套件"
   ]
  },
  {
   "cell_type": "markdown",
   "metadata": {},
   "source": [
    "`poisson`是關於[卜瓦松分布(Poisson distribution](https://zh.wikipedia.org/wiki/%E5%8D%9C%E7%93%A6%E6%9D%BE%E5%88%86%E5%B8%83)的function"
   ]
  },
  {
   "cell_type": "markdown",
   "metadata": {},
   "source": [
    "更多關於Poisson distribution可以參考翁秉仁老師的[Poisson 分配、指數分配與排隊理論](http://episte.math.ntu.edu.tw/applications/ap_poisson/index.html)"
   ]
  },
  {
   "cell_type": "code",
   "execution_count": 4,
   "metadata": {},
   "outputs": [],
   "source": [
    "import matplotlib\n",
    "import matplotlib.pyplot as plt\n",
    "import numpy as np\n",
    "import seaborn as sns\n",
    "from scipy.stats import poisson\n",
    "\n",
    "%matplotlib inline "
   ]
  },
  {
   "cell_type": "markdown",
   "metadata": {},
   "source": [
    "下面定義環境中需要的參數"
   ]
  },
  {
   "cell_type": "code",
   "execution_count": 5,
   "metadata": {},
   "outputs": [],
   "source": [
    "# 每一個地點能夠放的最大汽車數，超過的就假裝\"送回總公司\"\n",
    "MAX_CARS = 20"
   ]
  },
  {
   "cell_type": "code",
   "execution_count": 6,
   "metadata": {},
   "outputs": [],
   "source": [
    "# 每個晚上能夠移動的最大汽車數\n",
    "MAX_MOVE_OF_CARS = 5"
   ]
  },
  {
   "cell_type": "code",
   "execution_count": 7,
   "metadata": {},
   "outputs": [],
   "source": [
    "# 甲地的出租需求數\n",
    "RENTAL_REQUEST_FIRST_LOC = 3"
   ]
  },
  {
   "cell_type": "code",
   "execution_count": 8,
   "metadata": {},
   "outputs": [],
   "source": [
    "# 乙地的出租需求數\n",
    "RENTAL_REQUEST_SECOND_LOC = 4"
   ]
  },
  {
   "cell_type": "code",
   "execution_count": 9,
   "metadata": {},
   "outputs": [],
   "source": [
    "# 甲地的歸還汽車數\n",
    "RETURNS_FIRST_LOC = 3"
   ]
  },
  {
   "cell_type": "code",
   "execution_count": 10,
   "metadata": {},
   "outputs": [],
   "source": [
    "# 乙地的歸還汽車數\n",
    "RETURNS_SECOND_LOC = 2"
   ]
  },
  {
   "cell_type": "code",
   "execution_count": 11,
   "metadata": {},
   "outputs": [],
   "source": [
    "# discount rate\n",
    "DISCOUNT = 0.9"
   ]
  },
  {
   "cell_type": "code",
   "execution_count": 12,
   "metadata": {},
   "outputs": [],
   "source": [
    "# 出租一台車可以賺多少\n",
    "RENTAL_CREDIT = 10"
   ]
  },
  {
   "cell_type": "code",
   "execution_count": 13,
   "metadata": {},
   "outputs": [],
   "source": [
    "# 兩地之間移動汽車的成本\n",
    "MOVE_CAR_COST = 2"
   ]
  },
  {
   "cell_type": "markdown",
   "metadata": {},
   "source": [
    "所有可能的action，這個案例中我們的action就是要移動幾台的車子，來幾台還是去幾台"
   ]
  },
  {
   "cell_type": "code",
   "execution_count": 16,
   "metadata": {},
   "outputs": [
    {
     "data": {
      "text/plain": [
       "array([-5, -4, -3, -2, -1,  0,  1,  2,  3,  4,  5])"
      ]
     },
     "execution_count": 16,
     "metadata": {},
     "output_type": "execute_result"
    }
   ],
   "source": [
    "actions = np.arange(-MAX_MOVE_OF_CARS, MAX_MOVE_OF_CARS + 1)\n",
    "actions"
   ]
  },
  {
   "cell_type": "markdown",
   "metadata": {},
   "source": [
    "[scipy_poisson](https://docs.scipy.org/doc/scipy/reference/generated/scipy.stats.poisson.html)：\n",
    "* 第一個參數放的是一段時間內會發生的次數\n",
    "* 第二個參數放的是一段時間內平均發生的次數，也就是$\\lambda$，在這個範例中就是3、4跟3、2"
   ]
  },
  {
   "cell_type": "markdown",
   "metadata": {},
   "source": [
    "這邊設置一個參數，最多就是計算10台的車輛，超過了，得到的機率值似乎會被截斷為0，因此作者只計算0~10"
   ]
  },
  {
   "cell_type": "code",
   "execution_count": 45,
   "metadata": {},
   "outputs": [],
   "source": [
    "POISSON_UPPER_BOUND = 11"
   ]
  },
  {
   "cell_type": "code",
   "execution_count": 41,
   "metadata": {},
   "outputs": [],
   "source": [
    "# 用一個dict來記錄poisson distribution\n",
    "\n",
    "poisson_cache = dict()\n",
    "\n",
    "def poisson_probability(n, lam):\n",
    "    global poisson_cache\n",
    "    key = n * 10 + lam\n",
    "    if key not in poisson_cache:\n",
    "        poisson_cache[key] = poisson.pmf(n, lam)\n",
    "    return poisson_cache[key]"
   ]
  },
  {
   "cell_type": "code",
   "execution_count": 42,
   "metadata": {},
   "outputs": [],
   "source": [
    "for i in range(21):\n",
    "    for j in [2,3,4]:\n",
    "        poisson_probability(i, j)"
   ]
  },
  {
   "cell_type": "markdown",
   "metadata": {},
   "source": [
    "下面計算expected return"
   ]
  },
  {
   "cell_type": "markdown",
   "metadata": {},
   "source": [
    "大致流程\n",
    "* (1)初始化returns，\n",
    "* (2)計算移動車子的成本，這是由action決定，\n",
    "* (3)計算兩地還車後的車輛數，\n",
    "* (4)迴圈計算所有可能的租車排列組合，\n",
    "    * (4-1)計算機率，兩地的租車是iid，因此相乘，\n",
    "    * (4-2)確認出租車輛數，因為庫存(3)可能比(4)的租車數來的少，取小，\n",
    "    * (4-3)計算reward，\n",
    "    * (4-4)計算出租後的車輛數，\n",
    "    * (4-5)計算returns，假設固定還車數，將剩餘車數(4-4)加上還車輛就是next state，以此計算returns"
   ]
  },
  {
   "cell_type": "code",
   "execution_count": 44,
   "metadata": {},
   "outputs": [],
   "source": [
    "def expected_return(state, action, state_value, constant_returned_cars):\n",
    "    \"\"\"\n",
    "    state: list，[甲地的車子數, 乙地的車子數]\n",
    "    action: 甲地搬車到乙地就正值，乙地搬車到甲地就負值\n",
    "    state_value: matrix，記錄state value\n",
    "    constant_returned_cars: 如果設置為true，那每天歸還的汽車數就會是固定的，\n",
    "                            而不是經由poisson distribution計算而來，\n",
    "                            這可以降低計算時間\n",
    "    @constant_returned_cars:  if set True, model is simplified such that\n",
    "    the # of cars returned in daytime becomes constant\n",
    "    rather than a random value from poisson distribution, which will reduce calculation time\n",
    "    and leave the optimal policy/value state matrix almost the same\n",
    "    \"\"\"\n",
    "    # 初始化return\n",
    "    returns = 0.0\n",
    "\n",
    "    # 計算移動車子的成本\n",
    "    # 範例設置是2元，action有正有負，記得取abs\n",
    "    returns -= MOVE_CAR_COST * abs(action)\n",
    "\n",
    "    # 利用state、action計算移動之後兩地的汽車數\n",
    "    # 要注意的是，取min是因為範例有提過，一個地方能放的車最多就是20輛，超過的就\"自動送回總公司\"\n",
    "    NUM_OF_CARS_FIRST_LOC = min(state[0] - action, MAX_CARS)\n",
    "    NUM_OF_CARS_SECOND_LOC = min(state[1] + action, MAX_CARS)\n",
    "\n",
    "    # 下面做出所有可能的出租需求的排列組合\n",
    "    # 因為當車輛超過10台，也就是pmf(11, 3)所得到的機率變的超級小，因此作者就沒有列入計算\n",
    "    # 最多會出租POISSON_UPPER_BOUND，但這個過程包含0、1、2、3、...、POISSON_UPPER_BOUND\n",
    "    for rental_request_first_loc in range(POISSON_UPPER_BOUND):\n",
    "        for rental_request_second_loc in range(POISSON_UPPER_BOUND):\n",
    "            # 甲地、乙地兩地的出租機率是iid，因此相乘            \n",
    "            prob = poisson_probability(rental_request_first_loc, RENTAL_REQUEST_FIRST_LOC) * \\\n",
    "                poisson_probability(rental_request_second_loc, RENTAL_REQUEST_SECOND_LOC)\n",
    "\n",
    "            # 兩地的車輛數賦值\n",
    "            num_of_cars_first_loc = NUM_OF_CARS_FIRST_LOC\n",
    "            num_of_cars_second_loc = NUM_OF_CARS_SECOND_LOC\n",
    "\n",
    "            # 這邊要確認的是，你的租車需求必定小於等於你現有車輛數，所以取小\n",
    "            # 我們也會用這個實際出租車輛數來計算所得\n",
    "            valid_rental_first_loc = min(num_of_cars_first_loc, rental_request_first_loc)\n",
    "            valid_rental_second_loc = min(num_of_cars_second_loc, rental_request_second_loc)\n",
    "\n",
    "            # 計算兩地車輛出租之後的所得\n",
    "            reward = (valid_rental_first_loc + valid_rental_second_loc) * RENTAL_CREDIT\n",
    "            # 計算兩地車輛出租之後剩餘車輛\n",
    "            num_of_cars_first_loc -= valid_rental_first_loc\n",
    "            num_of_cars_second_loc -= valid_rental_second_loc\n",
    "    \n",
    "            # 判斷參數設置是否設置每日歸還數固定\n",
    "            if constant_returned_cars:\n",
    "                # 如果歸還數固定，那每日兩地就是3、2\n",
    "                returned_cars_first_loc = RETURNS_FIRST_LOC # 3\n",
    "                returned_cars_second_loc = RETURNS_SECOND_LOC # 2\n",
    "                # 計算歸還之後車輛數，一樣的，最多最多就只能放20輛車\n",
    "                num_of_cars_first_loc = min(num_of_cars_first_loc + returned_cars_first_loc, MAX_CARS)\n",
    "                num_of_cars_second_loc = min(num_of_cars_second_loc + returned_cars_second_loc, MAX_CARS)\n",
    "                # 計算return，這一次的reward，加上next state的value\n",
    "                returns += prob * (reward + DISCOUNT * state_value[num_of_cars_first_loc, num_of_cars_second_loc])\n",
    "            else:\n",
    "                # 如果歸還數沒有固定，那就繼續迴圈把所有可能的還車數都計一次                \n",
    "                for returned_cars_first_loc in range(POISSON_UPPER_BOUND):\n",
    "                    for returned_cars_second_loc in range(POISSON_UPPER_BOUND):\n",
    "                        # 因為不固定，所以需要再考慮poisson probability\n",
    "                        prob_return = poisson_probability(\n",
    "                            returned_cars_first_loc, RETURNS_FIRST_LOC) * poisson_probability(returned_cars_second_loc, RETURNS_SECOND_LOC)\n",
    "                        # 計算剩餘車輛數，這也是next state\n",
    "                        num_of_cars_first_loc_ = min(num_of_cars_first_loc + returned_cars_first_loc, MAX_CARS)\n",
    "                        num_of_cars_second_loc_ = min(num_of_cars_second_loc + returned_cars_second_loc, MAX_CARS)\n",
    "                        # 跟固定歸還數的最大差異在於多考慮了還車的poisson probability\n",
    "                        prob_ = prob_return * prob\n",
    "                        returns += prob_ * (reward + DISCOUNT *\n",
    "                                            state_value[num_of_cars_first_loc_, num_of_cars_second_loc_])\n",
    "    return returns"
   ]
  },
  {
   "cell_type": "markdown",
   "metadata": {},
   "source": [
    "接著我們要來定義一個執行的函數。下面會說明幾個過程中會用到的函數"
   ]
  },
  {
   "cell_type": "markdown",
   "metadata": {},
   "source": [
    "`axes.flatten`，將定義的subplot做平展，有沒有做對操作索引會有差異"
   ]
  },
  {
   "cell_type": "markdown",
   "metadata": {},
   "source": [
    "`np.flipud`，[官方文件](https://numpy.org/doc/1.14/reference/generated/numpy.flipud.html)，將matrix、vector做翻轉"
   ]
  },
  {
   "cell_type": "code",
   "execution_count": 56,
   "metadata": {},
   "outputs": [
    {
     "data": {
      "text/plain": [
       "array([[1., 0., 0.],\n",
       "       [0., 2., 0.],\n",
       "       [0., 0., 3.]])"
      ]
     },
     "execution_count": 56,
     "metadata": {},
     "output_type": "execute_result"
    }
   ],
   "source": [
    "A = np.diag([1.0, 2, 3])\n",
    "A"
   ]
  },
  {
   "cell_type": "code",
   "execution_count": 57,
   "metadata": {},
   "outputs": [
    {
     "data": {
      "text/plain": [
       "array([[0., 0., 3.],\n",
       "       [0., 2., 0.],\n",
       "       [1., 0., 0.]])"
      ]
     },
     "execution_count": 57,
     "metadata": {},
     "output_type": "execute_result"
    }
   ],
   "source": [
    "np.flipud(A)"
   ]
  },
  {
   "cell_type": "markdown",
   "metadata": {},
   "source": [
    "下面這邊算是主要執行的部份，這分成兩塊，一個是policy evaluation，一個是policy improvement：\n",
    "* policy evaluation: 利用bellman optimal equation，用$s_t$再加上$s_{t+1}$去更新計算value function，收斂至閥值之後停止\n",
    "* policy improvement: 預設的policy都是0，我們會用policy evaluation得到的新的value function來對每個action來計算它的return，然後取最大的那一個來做為在該state下的action，因為我們的policy就是greedy\n",
    "\n",
    "接下來判斷是否穩定，如果沒有穩定就再執行下一次迭代"
   ]
  },
  {
   "cell_type": "code",
   "execution_count": 74,
   "metadata": {},
   "outputs": [],
   "source": [
    "def figure_4_2(constant_returned_cars=True):\n",
    "    # 以我們的範例來看，就是設置兩個21x21的matrix\n",
    "    value = np.zeros((MAX_CARS + 1, MAX_CARS + 1))\n",
    "    policy = np.zeros(value.shape, dtype=np.int)\n",
    "    # 記錄迭代次數，也許我們會想知道收斂的進度\n",
    "    iterations = 0\n",
    "    # 設置figure、axes\n",
    "    _, axes = plt.subplots(2, 3, figsize=(40, 20))\n",
    "    # 透過flatten，就是把上面設置的2x3個sub fig平展，操作上的索引跟沒有設置flatten是不一樣的\n",
    "    axes = axes.flatten()\n",
    "    while True:\n",
    "        # 設置圖表 \n",
    "        fig = sns.heatmap(np.flipud(policy), cmap='YlGnBu', ax=axes[iterations])\n",
    "        fig.set_ylabel('# cars at first location', fontsize=30)\n",
    "        fig.set_yticks(list(reversed(range(MAX_CARS + 1))))\n",
    "        fig.set_xlabel('# cars at second location', fontsize=30 )\n",
    "        fig.set_title(f'policy {iterations}', fontsize=30)\n",
    "        # policy evaluation\n",
    "        while True:            \n",
    "            # 跟範例4.1一樣，我們先copy一個做舊值的記錄，\n",
    "            old_values = value.copy()\n",
    "            for i in range(MAX_CARS + 1):\n",
    "                for j in range(MAX_CARS + 1):\n",
    "                                                    # state, action, state_value, constant_returned_cars\n",
    "                    new_stata_value = expected_return([i, j], policy[i, j], value, constant_returned_cars=True)\n",
    "                    # in-place更新目前state的value\n",
    "                    value[i, j] = new_stata_value\n",
    "            # 計算最大變化        \n",
    "            max_value_change = abs(old_values - value).max()    \n",
    "            print(f'max_value_change: {max_value_change}')\n",
    "            # 判斷變化是否小於閥值，若是那就停止policy evaluation\n",
    "            if max_value_change < 1e-4:\n",
    "                print('stop policy evaluation.')\n",
    "                break\n",
    "        \n",
    "        # policy improvement\n",
    "        policy_stable = True\n",
    "        for i in range(MAX_CARS + 1):\n",
    "            for j in range(MAX_CARS + 1):\n",
    "                old_action = policy[i, j]\n",
    "                action_returns = []\n",
    "                # 兩地之間車輛的搬運是從-5~+5\n",
    "                for action in actions:\n",
    "                    if (0 <= action <= i) or (-j <= action <= 0):\n",
    "                        action_returns.append(expected_return([i, j], action, value, constant_returned_cars))\n",
    "                    else:\n",
    "                        action_returns.append(-np.inf)\n",
    "                    \n",
    "                new_action = actions[np.argmax(action_returns)]\n",
    "                policy[i, j] = new_action\n",
    "                if policy_stable and old_action != new_action:\n",
    "                    policy_stable = False\n",
    "        print(f'policy stable: {policy_stable}')\n",
    "\n",
    "        if policy_stable:\n",
    "            fig = sns.heatmap(np.flipud(value), cmap='YlGnBu', ax=axes[-1])\n",
    "            fig.set_ylabel('# cars at first location', fontsize=30)\n",
    "            fig.set_yticks(list(reversed(range(MAX_CARS + 1))))\n",
    "            fig.set_xlabel('# cars at second location', fontsize=30)\n",
    "            fig.set_title('optimal value', fontsize=30)\n",
    "            break\n",
    "            \n",
    "        iterations += 1\n",
    "    plt.savefig('./figure_4_2.png')\n",
    "    plt.show()\n",
    "    plt.close()     "
   ]
  },
  {
   "cell_type": "code",
   "execution_count": 75,
   "metadata": {
    "scrolled": false
   },
   "outputs": [
    {
     "name": "stdout",
     "output_type": "stream",
     "text": [
      "max_value_change: 196.62783361783852\n",
      "max_value_change: 134.98823859766583\n",
      "max_value_change: 91.41415360228919\n",
      "max_value_change: 67.17097732555729\n",
      "max_value_change: 51.29055484635097\n",
      "max_value_change: 38.49091000659837\n",
      "max_value_change: 29.406139835126424\n",
      "max_value_change: 25.7210573245398\n",
      "max_value_change: 22.381602293031023\n",
      "max_value_change: 19.40385808254939\n",
      "max_value_change: 16.77577350573091\n",
      "max_value_change: 14.47251552455765\n",
      "max_value_change: 12.464101852186843\n",
      "max_value_change: 10.719367983418692\n",
      "max_value_change: 9.20806226246873\n",
      "max_value_change: 7.9019189666795455\n",
      "max_value_change: 6.775146571130392\n",
      "max_value_change: 5.8045764710083745\n",
      "max_value_change: 4.969618520007145\n",
      "max_value_change: 4.252112693842776\n",
      "max_value_change: 3.6361309524054946\n",
      "max_value_change: 3.107761240497666\n",
      "max_value_change: 2.654891834022692\n",
      "max_value_change: 2.26700589940549\n",
      "max_value_change: 1.9349911763441128\n",
      "max_value_change: 1.650966802154585\n",
      "max_value_change: 1.4081276418079938\n",
      "max_value_change: 1.2006055672075036\n",
      "max_value_change: 1.02334664187498\n",
      "max_value_change: 0.8720029351049448\n",
      "max_value_change: 0.7428376083516355\n",
      "max_value_change: 0.6326419232035505\n",
      "max_value_change: 0.5386628774742235\n",
      "max_value_change: 0.45854026040933604\n",
      "max_value_change: 0.3902520158000584\n",
      "max_value_change: 0.33206690395809346\n",
      "max_value_change: 0.28250355471067223\n",
      "max_value_change: 0.2402951004837064\n",
      "max_value_change: 0.20435866938208846\n",
      "max_value_change: 0.1737691018435612\n",
      "max_value_change: 0.14773633074884174\n",
      "max_value_change: 0.12558593365213255\n",
      "max_value_change: 0.10674242749371388\n",
      "max_value_change: 0.09071493100810812\n",
      "max_value_change: 0.07708486873008269\n",
      "max_value_change: 0.06549543334426744\n",
      "max_value_change: 0.05564256088280217\n",
      "max_value_change: 0.047267206266042194\n",
      "max_value_change: 0.040148735572074656\n",
      "max_value_change: 0.03409927655258116\n",
      "max_value_change: 0.028958890796900505\n",
      "max_value_change: 0.02459144993093787\n",
      "max_value_change: 0.02088111467702447\n",
      "max_value_change: 0.01772932984539466\n",
      "max_value_change: 0.0150522606048753\n",
      "max_value_change: 0.012778605996800252\n",
      "max_value_change: 0.010847734796413988\n",
      "max_value_change: 0.00920809667559297\n",
      "max_value_change: 0.007815868406908066\n",
      "max_value_change: 0.006633800647819044\n",
      "max_value_change: 0.005630235829983121\n",
      "max_value_change: 0.0047782719802853535\n",
      "max_value_change: 0.004055050928627679\n",
      "max_value_change: 0.003441152547054571\n",
      "max_value_change: 0.002920079317334512\n",
      "max_value_change: 0.0024778178350288727\n",
      "max_value_change: 0.0021024658457236\n",
      "max_value_change: 0.0017839150607983356\n",
      "max_value_change: 0.0015135814573454809\n",
      "max_value_change: 0.0012841759864272717\n",
      "max_value_change: 0.0010895096651211134\n",
      "max_value_change: 0.0009243279118891223\n",
      "max_value_change: 0.0007841697620847299\n",
      "max_value_change: 0.000665248240920846\n",
      "max_value_change: 0.0005643487139082026\n",
      "max_value_change: 0.00047874254232738167\n",
      "max_value_change: 0.00040611372588728045\n",
      "max_value_change: 0.0003444966009737982\n",
      "max_value_change: 0.000292222921245866\n",
      "max_value_change: 0.0002478769196159192\n",
      "max_value_change: 0.00021025715051337102\n",
      "max_value_change: 0.00017834408060934948\n",
      "max_value_change: 0.00015127258103575514\n",
      "max_value_change: 0.00012830856951495662\n",
      "max_value_change: 0.00010882917825938421\n",
      "max_value_change: 9.230592559106299e-05\n",
      "stop policy evaluation.\n",
      "policy stable: False\n",
      "max_value_change: 72.93565506480746\n",
      "max_value_change: 5.771584637253568\n",
      "max_value_change: 2.1472970104344995\n",
      "max_value_change: 1.070365975080108\n",
      "max_value_change: 0.8619106467957636\n",
      "max_value_change: 0.7181428891676092\n",
      "max_value_change: 0.611364010490604\n",
      "max_value_change: 0.5169059906119742\n",
      "max_value_change: 0.4358272831748309\n",
      "max_value_change: 0.3670218562992318\n",
      "max_value_change: 0.30890785349942007\n",
      "max_value_change: 0.259927010978231\n",
      "max_value_change: 0.21868429274547907\n",
      "max_value_change: 0.18397356667821896\n",
      "max_value_change: 0.15476712387498992\n",
      "max_value_change: 0.1301950284682789\n",
      "max_value_change: 0.10952318723241206\n",
      "max_value_change: 0.09213308201026393\n",
      "max_value_change: 0.07750397308279844\n",
      "max_value_change: 0.065197614125168\n",
      "max_value_change: 0.054845259444334715\n",
      "max_value_change: 0.046136675532011395\n",
      "max_value_change: 0.038810871455780216\n",
      "max_value_change: 0.03264828952961807\n",
      "max_value_change: 0.02746423075132043\n",
      "max_value_change: 0.02310332179803254\n",
      "max_value_change: 0.019434859485443212\n",
      "max_value_change: 0.016348893962117472\n",
      "max_value_change: 0.013752933586260951\n",
      "max_value_change: 0.011569172929284832\n",
      "max_value_change: 0.009732160858675343\n",
      "max_value_change: 0.008186838889457704\n",
      "max_value_change: 0.006886890992063854\n",
      "max_value_change: 0.005793355427499591\n",
      "max_value_change: 0.004873456997415815\n",
      "max_value_change: 0.004099624717810002\n",
      "max_value_change: 0.003448665460666689\n",
      "max_value_change: 0.0029010688248831684\n",
      "max_value_change: 0.0024404223665897007\n",
      "max_value_change: 0.002052919695017863\n",
      "max_value_change: 0.0017269466670768452\n",
      "max_value_change: 0.0014527332954799022\n",
      "max_value_change: 0.0012220609166320173\n",
      "max_value_change: 0.001028015870474519\n",
      "max_value_change: 0.0008647822832017482\n",
      "max_value_change: 0.000727467756007627\n",
      "max_value_change: 0.0006119567266296144\n",
      "max_value_change: 0.0005147871261783621\n",
      "max_value_change: 0.0004330466088617868\n",
      "max_value_change: 0.00036428526584586507\n",
      "max_value_change: 0.0003064422000988998\n",
      "max_value_change: 0.0002577837491344326\n",
      "max_value_change: 0.00021685153535599966\n",
      "max_value_change: 0.00018241874482782805\n",
      "max_value_change: 0.00015345336976224644\n",
      "max_value_change: 0.00012908726307614415\n",
      "max_value_change: 0.00010859013127628714\n",
      "max_value_change: 9.134763803331225e-05\n",
      "stop policy evaluation.\n",
      "policy stable: False\n",
      "max_value_change: 4.7865793901779625\n",
      "max_value_change: 3.2947349349497017\n",
      "max_value_change: 2.2411823866665372\n",
      "max_value_change: 1.616931343950455\n",
      "max_value_change: 1.1197864003121367\n",
      "max_value_change: 0.7204544260453076\n",
      "max_value_change: 0.443826224180043\n",
      "max_value_change: 0.270089591177225\n",
      "max_value_change: 0.16639579119885184\n",
      "max_value_change: 0.1097569388878128\n",
      "max_value_change: 0.09306955083684443\n",
      "max_value_change: 0.07883243113371918\n",
      "max_value_change: 0.06673516197616891\n",
      "max_value_change: 0.05647744756430484\n",
      "max_value_change: 0.04778890580797679\n",
      "max_value_change: 0.04043363544485601\n",
      "max_value_change: 0.03420889623009771\n",
      "max_value_change: 0.02894175601244342\n",
      "max_value_change: 0.0244852782967655\n",
      "max_value_change: 0.020714866829109724\n",
      "max_value_change: 0.01752498189301832\n",
      "max_value_change: 0.014826276628639334\n",
      "max_value_change: 0.01254313570910881\n",
      "max_value_change: 0.010611575530163009\n",
      "max_value_change: 0.008977459770164842\n",
      "max_value_change: 0.00759498609147613\n",
      "max_value_change: 0.006425404193464601\n",
      "max_value_change: 0.005435930515432119\n",
      "max_value_change: 0.004598829696703888\n",
      "max_value_change: 0.00389063733302919\n",
      "max_value_change: 0.003291502340118768\n",
      "max_value_change: 0.0027846305547996053\n",
      "max_value_change: 0.0023558140037494013\n",
      "max_value_change: 0.0019930326484427496\n",
      "max_value_change: 0.0016861174636346732\n",
      "max_value_change: 0.0014264653930240456\n",
      "max_value_change: 0.001206798198722936\n",
      "max_value_change: 0.0010209584465883381\n",
      "max_value_change: 0.0008637369118673632\n",
      "max_value_change: 0.0007307265586291578\n",
      "max_value_change: 0.0006181990110007973\n",
      "max_value_change: 0.0005230000359119913\n",
      "max_value_change: 0.00044246113805002096\n",
      "max_value_change: 0.00037432475153309497\n",
      "max_value_change: 0.00031668096374914967\n",
      "max_value_change: 0.0002679139766428307\n",
      "max_value_change: 0.00022665681694888917\n",
      "max_value_change: 0.00019175301355289776\n",
      "max_value_change: 0.00016222418821598694\n",
      "max_value_change: 0.00013724262737468962\n",
      "max_value_change: 0.00011610807808892787\n",
      "max_value_change: 9.822812404536307e-05\n",
      "stop policy evaluation.\n",
      "policy stable: False\n",
      "max_value_change: 0.5643315459673204\n",
      "max_value_change: 0.19760617142037518\n",
      "max_value_change: 0.10013580858492332\n",
      "max_value_change: 0.06076229858263105\n",
      "max_value_change: 0.04080851176706801\n",
      "max_value_change: 0.02724975517776329\n",
      "max_value_change: 0.01637959485265128\n",
      "max_value_change: 0.00917172069227945\n",
      "max_value_change: 0.0049277609952014245\n",
      "max_value_change: 0.0025834353657501197\n",
      "max_value_change: 0.0013420404746966597\n",
      "max_value_change: 0.0007016294298409775\n",
      "max_value_change: 0.00037558255417025066\n",
      "max_value_change: 0.00020989058543818828\n",
      "max_value_change: 0.00013043237390775175\n",
      "max_value_change: 0.00011051700198549952\n",
      "max_value_change: 9.361574132071837e-05\n",
      "stop policy evaluation.\n",
      "policy stable: False\n",
      "max_value_change: 0.04079438312567163\n",
      "max_value_change: 0.010408227162770345\n",
      "max_value_change: 0.005110707129347247\n",
      "max_value_change: 0.0032318390198042835\n",
      "max_value_change: 0.0021719229242762594\n",
      "max_value_change: 0.0013911772695109903\n",
      "max_value_change: 0.0008154469392138708\n",
      "max_value_change: 0.0004459807777266178\n",
      "max_value_change: 0.0002340408432246477\n",
      "max_value_change: 0.00012037610895276885\n",
      "max_value_change: 6.173777182993945e-05\n",
      "stop policy evaluation.\n",
      "policy stable: True\n"
     ]
    },
    {
     "data": {
      "image/png": "[encoded data removed]",
      "text/plain": [
       "<Figure size 2880x1440 with 12 Axes>"
      ]
     },
     "metadata": {
      "needs_background": "light"
     },
     "output_type": "display_data"
    }
   ],
   "source": [
    "figure_4_2()"
   ]
  }
 ],
 "metadata": {
  "kernelspec": {
   "display_name": "Python 3",
   "language": "python",
   "name": "python3"
  },
  "language_info": {
   "codemirror_mode": {
    "name": "ipython",
    "version": 3
   },
   "file_extension": ".py",
   "mimetype": "text/x-python",
   "name": "python",
   "nbconvert_exporter": "python",
   "pygments_lexer": "ipython3",
   "version": "3.6.9"
  }
 },
 "nbformat": 4,
 "nbformat_minor": 4
}
