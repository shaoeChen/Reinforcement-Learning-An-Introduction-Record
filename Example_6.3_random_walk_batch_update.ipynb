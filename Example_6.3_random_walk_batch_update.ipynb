{
 "cells": [
  {
   "cell_type": "markdown",
   "metadata": {},
   "source": [
    "範例說明大部份參考[ShangtongZhang](https://github.com/ShangtongZhang/reinforcement-learning-an-introduction/blob/master/chapter06/random_walk.py)"
   ]
  },
  {
   "cell_type": "markdown",
   "metadata": {},
   "source": [
    "Example 6.3: Random walk under batch updating\n",
    "\n",
    "Example 6.2的那個[隨機漫步](http://terms.naer.edu.tw/detail/576952/)預測問題如果用batch-updating version的TD(0)、constant-$\\alpha$ MC的話，會是這樣的：在每一個新的episode之後，所有已經過看的episodes都會被視為一個batch。它們會反覆的被用到演算法裡面，TD(0)跟constant-$\\alpha$ MC都一樣，然後$\\alpha$是小到能夠讓value function收斂的那種。最終得到的value function再來跟$v_\\pi$比較，然後每5個states計算其平均平方根誤差(整個實驗是100次獨立的反覆計算)，得到的學習曲線結果如Figure 6.2所示。\n",
    "\n",
    "![](https://i.imgur.com/VYPbyFh.png)\n",
    "Figure 6.2：隨機漫步任務上使用批次訓練(batch training)的TD(0)與constant-$\\alpha$ MC的比較\n",
    "\n",
    "上圖也可以看的出來，TD(0)的結果還是比MC來的好。\n",
    "\n",
    "使用batch training，constant-$\\alpha$ MC收斂至$V(s)$，這是在看過(visiting)每一個state $s$之後的實際回報(actual returns)的樣本平均。某種程度上這算是最佳估測(optimal estimates)，它們最小化來自訓練集內的實際回報(actual returns)的均方誤差(mean square error)。但是你從Figure 6.2來看卻發現，batch TD method的表現竟然比MC還要來的好。它老兄怎麼有辦法比這個optimal method還要來的好？答案是這樣的，MC只在某些有限方面上是最佳的，而TD則是與預測回報(prediction returns)相關方面是最佳的。"
   ]
  },
  {
   "cell_type": "markdown",
   "metadata": {},
   "source": [
    "首先載入需求套件"
   ]
  },
  {
   "cell_type": "code",
   "execution_count": 1,
   "metadata": {},
   "outputs": [],
   "source": [
    "import numpy as np\n",
    "import matplotlib.pyplot as plt\n",
    "from tqdm import tqdm"
   ]
  },
  {
   "cell_type": "markdown",
   "metadata": {},
   "source": [
    "根據說明，我們會有A、B、C、D、E這五個state再加上A的左邊跟E的右邊兩個terminal state，總共7個state，每個state都有它的true value"
   ]
  },
  {
   "cell_type": "code",
   "execution_count": 2,
   "metadata": {},
   "outputs": [
    {
     "data": {
      "text/plain": [
       "array([0.        , 0.16666667, 0.33333333, 0.5       , 0.66666667,\n",
       "       0.83333333, 1.        ])"
      ]
     },
     "execution_count": 2,
     "metadata": {},
     "output_type": "execute_result"
    }
   ],
   "source": [
    "TRUE_VALUE = np.ones(7)\n",
    "TRUE_VALUE[0] = 0\n",
    "TRUE_VALUE[1:6] = np.arange(1, 6) / 6.0\n",
    "TRUE_VALUE"
   ]
  },
  {
   "cell_type": "markdown",
   "metadata": {},
   "source": [
    "每個state的value都初始化為0.5，然後我們會把右邊那個terminal state的預設值設置為1，這計算過程中是有幫助的"
   ]
  },
  {
   "cell_type": "code",
   "execution_count": 3,
   "metadata": {},
   "outputs": [
    {
     "data": {
      "text/plain": [
       "array([0. , 0.5, 0.5, 0.5, 0.5, 0.5, 1. ])"
      ]
     },
     "execution_count": 3,
     "metadata": {},
     "output_type": "execute_result"
    }
   ],
   "source": [
    "VALUES = np.zeros(7)\n",
    "VALUES[1:6] = 0.5\n",
    "VALUES[6] = 1\n",
    "VALUES"
   ]
  },
  {
   "cell_type": "markdown",
   "metadata": {},
   "source": [
    "這個範例的狀態轉移很簡單，不是向左就是向右"
   ]
  },
  {
   "cell_type": "code",
   "execution_count": 4,
   "metadata": {},
   "outputs": [],
   "source": [
    "TRANSITION_LEFT = 0\n",
    "TRANSITION_RIGHT = 1"
   ]
  },
  {
   "cell_type": "code",
   "execution_count": 5,
   "metadata": {},
   "outputs": [
    {
     "data": {
      "text/plain": [
       "1"
      ]
     },
     "execution_count": 5,
     "metadata": {},
     "output_type": "execute_result"
    }
   ],
   "source": [
    "# 左右的機率各半\n",
    "probs = [0.5, 0.5]\n",
    "np.random.choice([TRANSITION_LEFT, TRANSITION_RIGHT], p=probs)"
   ]
  },
  {
   "cell_type": "markdown",
   "metadata": {},
   "source": [
    "過程中的reward皆為0，然後只有進到最右邊的terminal state才會得到reward+1"
   ]
  },
  {
   "cell_type": "markdown",
   "metadata": {},
   "source": [
    "下面給出公式6.1做為參考  \n",
    "$$V(S_t) \\leftarrow V(S_t) + \\alpha [G_t - V(S_t)] \\tag{6.1}$$"
   ]
  },
  {
   "cell_type": "markdown",
   "metadata": {},
   "source": [
    "先來看看Monte Carlo，因為是批次處理，因此我們並不會在過程中就直接計算value"
   ]
  },
  {
   "cell_type": "code",
   "execution_count": 6,
   "metadata": {},
   "outputs": [],
   "source": [
    "def monte_carlo(values, alpha=0.1):\n",
    "    # 所有的state都是從3開始\n",
    "    state = 3\n",
    "    trajectory = [3]\n",
    "    \n",
    "    while True:\n",
    "        # 狀態的轉機轉移\n",
    "        if np.random.choice([TRANSITION_LEFT, TRANSITION_RIGHT], p=probs) == TRANSITION_LEFT:\n",
    "            state -= 1\n",
    "        else:\n",
    "            state += 1\n",
    "        # 寫入軌跡記錄\n",
    "        trajectory.append(state)\n",
    "        # 判斷是否結束\n",
    "        if state == 6:\n",
    "            returns = 1.0\n",
    "            break\n",
    "        elif state == 0:\n",
    "            returns = 0.0\n",
    "            break\n",
    "            \n",
    "    \n",
    "    # 批次處理，因此不在這邊計算\n",
    "#     for _state in trajectory[: -1]:\n",
    "#         values[_state] += alpha * (returns - values[_state])\n",
    "        \n",
    "    return trajectory, [returns] * (len(trajectory) - 1)"
   ]
  },
  {
   "cell_type": "code",
   "execution_count": 7,
   "metadata": {},
   "outputs": [
    {
     "data": {
      "text/plain": [
       "([3, 4, 5, 4, 3, 4, 5, 6], [1.0, 1.0, 1.0, 1.0, 1.0, 1.0, 1.0])"
      ]
     },
     "execution_count": 7,
     "metadata": {},
     "output_type": "execute_result"
    }
   ],
   "source": [
    "_values = np.copy(VALUES)\n",
    "trajectory, reward = monte_carlo(_values)\n",
    "trajectory, reward"
   ]
  },
  {
   "cell_type": "markdown",
   "metadata": {},
   "source": [
    "接下來是TD，下面給出公式6.2參考  \n",
    "$$V(S_t) \\leftarrow V(S_t) + \\alpha[R_{t+1} + \\gamma V(S_{t+1}) - V(S_t)] \\tag{6.2}$$"
   ]
  },
  {
   "cell_type": "markdown",
   "metadata": {},
   "source": [
    "一樣的，我們並不會立即的計算value，因此這邊也會同步註解掉計算的部份"
   ]
  },
  {
   "cell_type": "code",
   "execution_count": 8,
   "metadata": {},
   "outputs": [],
   "source": [
    "def temporal_difference(values, alpha=0.1):\n",
    "    # 所有的state都是從3開始\n",
    "    state = 3\n",
    "    trajectory = [3]\n",
    "    rewards = [0]\n",
    "    \n",
    "    while True:\n",
    "        old_state = state\n",
    "        if np.random.choice([TRANSITION_LEFT, TRANSITION_RIGHT], p=probs) == TRANSITION_LEFT:\n",
    "            state -= 1\n",
    "        else:\n",
    "            state += 1\n",
    "        \n",
    "        # 這邊每一個state的變化得到的reward皆為0\n",
    "        # 跟上面設置的VALUES有關，算是一種小技巧吧，我猜        \n",
    "        reward = 0\n",
    "        \n",
    "        trajectory.append(state)\n",
    "        \n",
    "        # 批次更新，因此不在這邊計算\n",
    "#         values[old_state] += alpha * (reward + values[state] - values[old_state])\n",
    "        \n",
    "        if state == 6 or state == 0:\n",
    "            break\n",
    "        \n",
    "        rewards.append(reward)\n",
    "    \n",
    "    return trajectory, rewards"
   ]
  },
  {
   "cell_type": "code",
   "execution_count": 9,
   "metadata": {},
   "outputs": [
    {
     "data": {
      "text/plain": [
       "([3, 2, 3, 2, 3, 2, 3, 2, 3, 2, 1, 2, 3, 2, 3, 2, 3, 4, 5, 6],\n",
       " [0, 0, 0, 0, 0, 0, 0, 0, 0, 0, 0, 0, 0, 0, 0, 0, 0, 0, 0])"
      ]
     },
     "execution_count": 9,
     "metadata": {},
     "output_type": "execute_result"
    }
   ],
   "source": [
    "_values = np.copy(VALUES)\n",
    "trajectory, reward = temporal_difference(_values)\n",
    "trajectory, reward"
   ]
  },
  {
   "cell_type": "code",
   "execution_count": 10,
   "metadata": {},
   "outputs": [
    {
     "name": "stdout",
     "output_type": "stream",
     "text": [
      "3 0\n",
      "2 0\n",
      "3 0\n",
      "2 0\n",
      "3 0\n",
      "2 0\n",
      "3 0\n",
      "2 0\n",
      "3 0\n",
      "2 0\n",
      "1 0\n",
      "2 0\n",
      "3 0\n",
      "2 0\n",
      "3 0\n",
      "2 0\n",
      "3 0\n",
      "4 0\n",
      "5 0\n"
     ]
    }
   ],
   "source": [
    "for i, j in zip(trajectory, reward):\n",
    "    print(i, j)"
   ]
  },
  {
   "cell_type": "markdown",
   "metadata": {},
   "source": [
    "下面開始處理批次更新(batch updating)的部份"
   ]
  },
  {
   "cell_type": "code",
   "execution_count": 11,
   "metadata": {},
   "outputs": [],
   "source": [
    "def batch_updating(method, episodes, alpha=0.001):\n",
    "    \"\"\"批次更新\n",
    "    method: MC or TD\n",
    "    episodes: episodes\n",
    "    alpha: step size，要夠小\n",
    "    \"\"\"\n",
    "    # 執行次數\n",
    "    runs = 100\n",
    "    # 記錄每個episode的total error\n",
    "    total_errors = np.zeros(episodes)\n",
    "    for run in tqdm(range(0, runs)):\n",
    "        # 初始值，每一run都重來\n",
    "        current_values = np.copy(VALUES)\n",
    "        # 記錄error\n",
    "        errors = []\n",
    "        # 記錄trajectory\n",
    "        trajectories = []\n",
    "        # 記錄reward\n",
    "        rewards = []\n",
    "        for episode in range(episodes):            \n",
    "            if method == 'TD':\n",
    "                _trajectory, _rewards = temporal_difference(current_values)\n",
    "            else:\n",
    "                _trajectory, _rewards = monte_carlo(current_values)\n",
    "            \n",
    "            # 每經過一個episode，你的trajectories就會多一個episode的記錄\n",
    "            # 每次都會利用目前為止所有的記錄來做計算\n",
    "            trajectories.append(_trajectory)\n",
    "            rewards.append(_rewards)\n",
    "            while True:\n",
    "                # 這邊我們會利用目前為止所看過的所有的軌跡來更新\n",
    "                # 作法上跟DP一樣，一直到更新的幅度小於某一個閥值之後才會停止\n",
    "                # 5個state加上左右各一個terminal state\n",
    "                updates = np.zeros(7)\n",
    "                # 這邊為了有區隔，用的符號就有所不同，雖然應該是無所謂\n",
    "                for trajectory_, rewards_ in zip(trajectories, rewards):\n",
    "                    for i in range(0, len(trajectory_) -1):\n",
    "                        # 計算的公式都還是根據6.1、6.2\n",
    "                        if method == 'TD':\n",
    "                            updates[trajectory_[i]] += rewards_[i] + current_values[trajectory_[i + 1]] - current_values[trajectory_[i]] \n",
    "                        else:\n",
    "                            updates[trajectory_[i]] += rewards_[i] -current_values[trajectory_[i]]\n",
    "                \n",
    "                updates *= alpha\n",
    "                # 當更新的幅度已經低於閥的時候就停止\n",
    "                if np.sum(np.abs(updates)) < 1e-3:\n",
    "                    break\n",
    "                \n",
    "                current_values += updates\n",
    "            # 計算每個episode的error\n",
    "            errors.append(np.sqrt(np.sum(np.power(current_values - TRUE_VALUE, 2)) / 5.0))\n",
    "        # 加總每一run的error\n",
    "        total_errors += np.asarray(errors)\n",
    "    # 計算平均\n",
    "    total_errors /= runs\n",
    "    return total_errors"
   ]
  },
  {
   "cell_type": "code",
   "execution_count": 12,
   "metadata": {},
   "outputs": [
    {
     "name": "stderr",
     "output_type": "stream",
     "text": [
      "100%|██████████| 100/100 [00:41<00:00,  2.39it/s]\n",
      "100%|██████████| 100/100 [00:35<00:00,  2.85it/s]\n"
     ]
    },
    {
     "data": {
      "image/png": "[encoded data removed]",
      "text/plain": [
       "<Figure size 432x288 with 1 Axes>"
      ]
     },
     "metadata": {
      "needs_background": "light"
     },
     "output_type": "display_data"
    }
   ],
   "source": [
    "episodes = 100 + 1\n",
    "td_errors = batch_updating('TD', episodes)\n",
    "mc_errors = batch_updating('MC', episodes)\n",
    "\n",
    "plt.plot(td_errors, label='TD')\n",
    "plt.plot(mc_errors, label='MC')\n",
    "plt.xlabel('episodes')\n",
    "plt.ylabel('RMS error')\n",
    "plt.legend()\n",
    "plt.show()"
   ]
  }
 ],
 "metadata": {
  "kernelspec": {
   "display_name": "Python 3",
   "language": "python",
   "name": "python3"
  },
  "language_info": {
   "codemirror_mode": {
    "name": "ipython",
    "version": 3
   },
   "file_extension": ".py",
   "mimetype": "text/x-python",
   "name": "python",
   "nbconvert_exporter": "python",
   "pygments_lexer": "ipython3",
   "version": "3.6.9"
  }
 },
 "nbformat": 4,
 "nbformat_minor": 4
}
