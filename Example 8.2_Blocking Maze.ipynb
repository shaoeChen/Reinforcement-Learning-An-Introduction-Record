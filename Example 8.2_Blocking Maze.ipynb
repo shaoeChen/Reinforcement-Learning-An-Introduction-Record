{
 "cells": [
  {
   "cell_type": "code",
   "execution_count": 1,
   "metadata": {},
   "outputs": [],
   "source": [
    "#######################################################################\n",
    "# Copyright (C)                                                       #\n",
    "# 2016-2018 Shangtong Zhang(zhangshangtong.cpp@gmail.com)             #\n",
    "# 2016 Kenta Shimada(hyperkentakun@gmail.com)                         #\n",
    "# Permission given to modify the code as long as you keep this        #\n",
    "# declaration at the top                                              #\n",
    "#######################################################################\n"
   ]
  },
  {
   "cell_type": "markdown",
   "metadata": {},
   "source": [
    "這次的範例主要參考[ShangtongZhang](https://github.com/ShangtongZhang/reinforcement-learning-an-introduction/blob/master/chapter07/random_walk.py)"
   ]
  },
  {
   "cell_type": "markdown",
   "metadata": {},
   "source": [
    "Chapter 8主要結合planning與learning，讓過往的經驗可以再次得到一次利用"
   ]
  },
  {
   "cell_type": "markdown",
   "metadata": {},
   "source": [
    "Example 8.2: Blocking Maze\n",
    "\n",
    "Figure 8.4說明了一個相對較小的模型誤差(modeling error)並且從中恢復。最一開始障礙的右邊會有一個從開始到目標的短徑(short path)，如圖左上所示。然後在1000個time steps之後，這條短徑被河蟹了，你變成要從障礙物的左邊缺點去走這條更長的路徑，如圖右上所示。\n",
    "\n",
    "![](https://i.imgur.com/pj7Yt2F.png)\n",
    "Figure 8.4：Dyna agents在blocking task的平均效能。左圖是前1000個steps，右圖是剩下的steps。Dyna-Q+是鼓勵探索版本的Dyna-Q，有著探索獎勵。\n",
    "\n",
    "Figure 8.4說明著Dyna-Q agent與Dyna-Q+ agent(後面就會說到)的average cumulative reward。第一個部份說明的是，兩個Dyna agents在1000個steps內找到最短路徑。當環境(environment)改變的時候，你會發現有一小段的average cumulative reward變的平坦，因為它們卡到了，在障礙物後面一直走來走去的。不過一段時間之後也可以看的到，它們又找到新的開口以及新的optimal behvaior。當環境變的比之前更好的時候，而先前正確的策略(policy)卻沒有顯示出有任何改善，就會出現更大的困難。這種情況下，modeling error會有很長的一段時間無法被偵測到(如果有的話)。"
   ]
  },
  {
   "cell_type": "markdown",
   "metadata": {},
   "source": [
    "首先載入需求套件"
   ]
  },
  {
   "cell_type": "code",
   "execution_count": 2,
   "metadata": {},
   "outputs": [],
   "source": [
    "import numpy as np\n",
    "import matplotlib.pyplot as plt\n",
    "from tqdm import tqdm\n",
    "import heapq\n",
    "from copy import deepcopy"
   ]
  },
  {
   "cell_type": "markdown",
   "metadata": {},
   "source": [
    "首先設置Environment，要注意一下這邊的一些設置是跟Example 8.1不一樣的"
   ]
  },
  {
   "cell_type": "code",
   "execution_count": 3,
   "metadata": {},
   "outputs": [],
   "source": [
    "class Maze:\n",
    "    def __init__(self):\n",
    "        \"\"\"初始化環境\n",
    "        \n",
    "        根據範例說明：\n",
    "        1. 這是一個寬9高6的gridworld\n",
    "        2. 每個episode的start state都是[5, 3]\n",
    "        3. goal state為[0, 8]\n",
    "        4. 我們能做的action就是上下左右\n",
    "        5. 路面上是有障礙\n",
    "        6. 在1000個step之後障礙就會變動\n",
    "        \"\"\"\n",
    "        self.WORLD_WIDTH = 9\n",
    "        self.WORLD_HEIGHT = 6\n",
    "        \n",
    "        self.START_STATE = [5, 3]\n",
    "        self.GOAL_STATE = [0, 8]\n",
    "        \n",
    "        self.ACTION_UP = 0\n",
    "        self.ACTION_DOWN = 1\n",
    "        self.ACTION_LEFT = 2\n",
    "        self.ACTION_RIGHT = 3\n",
    "        self.action_space = [self.ACTION_UP, self.ACTION_DOWN, self.ACTION_LEFT, self.ACTION_RIGHT]\n",
    "        \n",
    "        # 障礙設置\n",
    "        # 這次的範例中，障礙是會變動的\n",
    "        self.obstacles = None\n",
    "        self.old_obstacles = [[3, i] for i in range(0, 8)]\n",
    "        self.new_obstacles = [[3, i] for i in range(1, 9)]\n",
    "        \n",
    "        self.value_size = (self.WORLD_HEIGHT, self.WORLD_WIDTH, len(self.action_space))\n",
    "        \n",
    "        # 根據範例的圖片來設置\n",
    "        self.max_steps = 3000\n",
    "        \n",
    "        # 1000個step之後環境變換\n",
    "        self.time_to_switch = 1000\n",
    "        \n",
    "    def step(self, state, action):\n",
    "        \"\"\"run step according action\n",
    "        \n",
    "        state: 當前的狀態\n",
    "        action: 要執行的action\n",
    "        \n",
    "        幾點要注意：\n",
    "            1. 不能超出邊界，這可以用max、min來處理\n",
    "            2. 撞到障礙就是停在原地\n",
    "            3. 每次的reward都是0，除非你到達goal state\n",
    "            \n",
    "        return next_state, reward\n",
    "        \"\"\"\n",
    "        x, y = state\n",
    "        \n",
    "        if action == self.ACTION_UP:\n",
    "            x = max(x - 1, 0)\n",
    "        elif  action == self.ACTION_DOWN:\n",
    "            x = min(x + 1, self.WORLD_HEIGHT - 1)\n",
    "        elif  action == self.ACTION_LEFT:\n",
    "            y = max(y - 1, 0)\n",
    "        elif  action == self.ACTION_RIGHT:\n",
    "            y = min(y + 1, self.WORLD_WIDTH - 1)\n",
    "        \n",
    "        if [x, y] in self.obstacles:\n",
    "            x, y = state\n",
    "        \n",
    "        if [x, y] == self.GOAL_STATE:\n",
    "            reward = 1.0\n",
    "        else:\n",
    "            reward = 0.0\n",
    "        \n",
    "        return [x, y], reward\n",
    "        "
   ]
  },
  {
   "cell_type": "code",
   "execution_count": 4,
   "metadata": {},
   "outputs": [],
   "source": [
    "maze = Maze()\n",
    "maze.obstacles = maze.old_obstacles\n",
    "assert maze.START_STATE == [5, 3]\n",
    "assert maze.GOAL_STATE == [0, 8]\n",
    "assert (maze.step([5, 3], 0)) == ([4, 3], 0)"
   ]
  },
  {
   "cell_type": "markdown",
   "metadata": {},
   "source": [
    "我們會需要一個model來記錄曾經有過的經驗，這個model是for Dyna-Q的"
   ]
  },
  {
   "cell_type": "code",
   "execution_count": 5,
   "metadata": {},
   "outputs": [],
   "source": [
    "class TrivialModel:\n",
    "    def __init__(self, rand=np.random):\n",
    "        # 用dict來做模型，反正我們只會記錄該state-action pair最後一次的經驗\n",
    "        self.model = dict()\n",
    "        self.rand = rand\n",
    "#         self.rand.seed(10)\n",
    "    \n",
    "    def feed(self, state, action, next_state, reward):\n",
    "        \"\"\"記錄經驗\"\"\"\n",
    "        state = deepcopy(state)\n",
    "        next_state = deepcopy(next_state)\n",
    "        \n",
    "        # 判斷該組state是否存在目前的model\n",
    "        # 如不存在就賦予一個預設值\n",
    "        if tuple(state) not in self.model.keys():\n",
    "            self.model[tuple(state)] = dict()\n",
    "        self.model[tuple(state)][action] = [list(next_state), reward]\n",
    "        \n",
    "    def sample(self):\n",
    "        \"\"\"隨機取一筆經驗出來\"\"\"\n",
    "        state_index = self.rand.choice(range(len(self.model.keys())))\n",
    "        state = list(self.model)[state_index]\n",
    "        action_index = self.rand.choice(range(len(self.model[state].keys())))\n",
    "        action = list(self.model[state])[action_index]\n",
    "        next_state, reward = self.model[state][action]\n",
    "        state = deepcopy(state)\n",
    "        next_state = deepcopy(next_state)\n",
    "        return list(state), action, list(next_state), reward"
   ]
  },
  {
   "cell_type": "markdown",
   "metadata": {},
   "source": [
    "我們需要另一個model來滿足Dyna-Q+的需求"
   ]
  },
  {
   "cell_type": "code",
   "execution_count": 6,
   "metadata": {},
   "outputs": [],
   "source": [
    "class TimeModel:\n",
    "    def __init__(self, maze, time_weight=1e-4, rand=np.random):\n",
    "        \"\"\"\n",
    "        maze: Maze object\n",
    "        time_weight: 時間所賦予的權重\n",
    "        rand: numpy random function\n",
    "        \"\"\"\n",
    "        self.rand = rand\n",
    "        self.model = dict()\n",
    "        # 追蹤記錄total time\n",
    "        self.time = 0\n",
    "        self.time_weight = time_weight\n",
    "        self.maze = maze\n",
    "        \n",
    "    def feed(self, state, action, next_state, reward):\n",
    "        \"\"\"記錄經驗\n",
    "        \n",
    "        我們需要先判斷一下相關經驗是否已經存在，不存在就先設置初始格式再寫入\n",
    "        剩下這個state沒有被執行過的action我們就另外做個記錄\n",
    "        只是記錄的next state會是current state        \n",
    "        \"\"\"\n",
    "        state = deepcopy(state)\n",
    "        next_state = deepcopy(next_state)\n",
    "        \n",
    "        self.time +=1\n",
    "        \n",
    "        if tuple(state) not in self.model.keys():\n",
    "            self.model[tuple(state)] = dict()\n",
    "            \n",
    "            for _action in self.maze.action_space:\n",
    "                if _action != action:\n",
    "                    # 這邊要注意，next_state記錄的是current state\n",
    "                    # 意思就是，當我們後面去遇到這個state-action pair的時候\n",
    "                    # 我們就會從current state再往下走，而不會真正的轉至下一個state\n",
    "                    # 當這個pair第一次被sample到的時候，雖然reward是0，但是還是會有一個bouns reward\n",
    "                    # 這也合理，沒走過的你也不知道走了以後會怎麼樣，但是它逐漸的累積之後\n",
    "                    # 總是有機會被選到，那就能真正的知道它的下一個狀態是怎麼了\n",
    "                    self.model[tuple(state)][_action] =[list(state), 0, 1]\n",
    "        \n",
    "        self.model[tuple(state)][action] = [list(next_state), reward, self.time]\n",
    "    \n",
    "    def sample(self):\n",
    "        \"\"\"隨機取一筆經驗出來\"\"\"\n",
    "        state_index = self.rand.choice(range(len(self.model.keys())))\n",
    "        state  = list(self.model)[state_index]\n",
    "        \n",
    "        action_index = self.rand.choice(range(len(self.model[state].keys())))\n",
    "        action = list(self.model[state])[action_index]\n",
    "        \n",
    "        # 這邊我們假設我們真的去sample到那個沒被選過的pair\n",
    "        # next_state還會是state\n",
    "        # 然後這個pair已經好久沒有出現，所以有bouns reward之後，其reward還是會增長\n",
    "        next_state, reward, time = self.model[state][action]\n",
    "        reward += self.time_weight * np.sqrt(self.time - time)\n",
    "        \n",
    "        state = deepcopy(state)\n",
    "        next_state = deepcopy(next_state)\n",
    "        \n",
    "        return list(state), action, list(next_state), reward"
   ]
  },
  {
   "cell_type": "markdown",
   "metadata": {},
   "source": [
    "然後我們來設置一下Dyna-Q所需要的參數：\n",
    "* gamma: discount factor\n",
    "* epsilon: 探索的機率\n",
    "* planning_steps: planning steps\n",
    "* average_runs: 幾次的run計算平均"
   ]
  },
  {
   "cell_type": "code",
   "execution_count": 7,
   "metadata": {},
   "outputs": [],
   "source": [
    "dyna_q_params = {\n",
    "    'gamma': 0.95,\n",
    "    'epsilon': 0.1,\n",
    "    'planning_steps': 10,\n",
    "    'average_runs': 20,     \n",
    "    'alpha': 1.0,\n",
    "    'time_weight': 1e-4,\n",
    "    'methods': ['Dyna-Q', 'Dyna-Q+']\n",
    "}"
   ]
  },
  {
   "cell_type": "code",
   "execution_count": 8,
   "metadata": {},
   "outputs": [
    {
     "data": {
      "text/plain": [
       "{'gamma': 0.95,\n",
       " 'epsilon': 0.1,\n",
       " 'planning_steps': 10,\n",
       " 'average_runs': 20,\n",
       " 'alpha': 1.0,\n",
       " 'time_weight': 0.0001,\n",
       " 'methods': ['Dyna-Q', 'Dyna-Q+']}"
      ]
     },
     "execution_count": 8,
     "metadata": {},
     "output_type": "execute_result"
    }
   ],
   "source": [
    "dyna_q_params"
   ]
  },
  {
   "cell_type": "markdown",
   "metadata": {},
   "source": [
    "設置一個已經很熟悉的，用來選擇action的function"
   ]
  },
  {
   "cell_type": "code",
   "execution_count": 9,
   "metadata": {},
   "outputs": [],
   "source": [
    "def action_selection(state, value_function, maze, dyna_params):\n",
    "    \"\"\"選擇action的function\n",
    "    \n",
    "    後來自己被很多q_value參數搞混，所以就試著分開來命名\n",
    "    \n",
    "    state: current state\n",
    "    value_function: action value function, that is q_value\n",
    "    maze: object for Maze\n",
    "    dyna_params: algorithm's parameters\n",
    "    \"\"\"\n",
    "    if np.random.binomial(1, dyna_q_params['epsilon']) == 1:\n",
    "        return np.random.choice(maze.action_space)\n",
    "    else:\n",
    "        # 取得該state的所有可能的action\n",
    "        values = value_function[state[0], state[1], :]\n",
    "        return np.random.choice([action for action, value in enumerate(values) if value == np.max(values)])\n",
    "    "
   ]
  },
  {
   "cell_type": "markdown",
   "metadata": {},
   "source": [
    "接著來設置Dyna-Q algorithm，下面給出完整演算法的pseudocode"
   ]
  },
  {
   "cell_type": "markdown",
   "metadata": {},
   "source": [
    "![](https://i.imgur.com/jo168Rh.png)"
   ]
  },
  {
   "cell_type": "code",
   "execution_count": 10,
   "metadata": {},
   "outputs": [],
   "source": [
    "def dyna_q_algorithm(q_value, model, maze, params):\n",
    "    \"\"\"dyna_q algorithm\n",
    "    \n",
    "    q_value: action-value function\n",
    "    model: for planning\n",
    "    maze: environment\n",
    "    params: for dyna_q's parameters\n",
    "    \n",
    "    見上演算法說明\n",
    "    \"\"\"\n",
    "    # (a) current state\n",
    "    state = maze.START_STATE\n",
    "    steps = 0\n",
    "    \n",
    "    # 一直到agent走到目標之前就是一路迴圈執行\n",
    "    while state != maze.GOAL_STATE:        \n",
    "        # 記錄當下的steps\n",
    "        steps += 1\n",
    "        \n",
    "        # (b) 取得action\n",
    "        action = action_selection(state, q_value, maze, params)\n",
    "        \n",
    "        # (c) 執行action，得到next state與reward\n",
    "        next_state, reward = maze.step(state, action)\n",
    "        \n",
    "        # (d) 做一次Q-learning的更新\n",
    "        q_value[state[0], state[1], action] += \\\n",
    "            params['alpha'] * (reward + params['gamma'] * np.max(q_value[next_state[0], next_state[1], :]) \\\n",
    "                - q_value[state[0], state[1], action])\n",
    "        \n",
    "        # (e) 資料寫入模型\n",
    "        model.feed(state, action, next_state, reward)\n",
    "        \n",
    "        # (f) 迴圈執行planning_steps次\n",
    "        for t in range(0, params['planning_steps']):            \n",
    "            # 隨機的從模型中取一筆資料\n",
    "            # 從經驗中學習，其實就是用sample到的資料再做一次更新\n",
    "            _state, _action, _next_state, _reward = model.sample()\n",
    "            q_value[_state[0], _state[1], _action] += \\\n",
    "            params['alpha'] * (_reward + params['gamma'] * np.max(q_value[_next_state[0], _next_state[1], :]) \\\n",
    "                - q_value[_state[0], _state[1], _action])\n",
    "            \n",
    "        state = next_state\n",
    "        \n",
    "        if steps > maze.max_steps:\n",
    "            break\n",
    "    \n",
    "    return steps"
   ]
  },
  {
   "cell_type": "markdown",
   "metadata": {},
   "source": [
    "演算法的部份也已經好了，現在我們可以來處理實際要執行的過程了"
   ]
  },
  {
   "cell_type": "markdown",
   "metadata": {},
   "source": [
    "首先初始化需求的物件"
   ]
  },
  {
   "cell_type": "code",
   "execution_count": 11,
   "metadata": {},
   "outputs": [],
   "source": [
    "blocking_maze = Maze()"
   ]
  },
  {
   "cell_type": "markdown",
   "metadata": {},
   "source": [
    "然後我們也已經有env的參數"
   ]
  },
  {
   "cell_type": "code",
   "execution_count": 12,
   "metadata": {},
   "outputs": [
    {
     "data": {
      "text/plain": [
       "{'gamma': 0.95,\n",
       " 'epsilon': 0.1,\n",
       " 'planning_steps': 10,\n",
       " 'average_runs': 20,\n",
       " 'alpha': 1.0,\n",
       " 'time_weight': 0.0001,\n",
       " 'methods': ['Dyna-Q', 'Dyna-Q+']}"
      ]
     },
     "execution_count": 12,
     "metadata": {},
     "output_type": "execute_result"
    }
   ],
   "source": [
    "dyna_q_params"
   ]
  },
  {
   "cell_type": "markdown",
   "metadata": {},
   "source": [
    "接下來設置一些過程中需要的參數"
   ]
  },
  {
   "cell_type": "code",
   "execution_count": 13,
   "metadata": {},
   "outputs": [
    {
     "data": {
      "text/plain": [
       "(20, 2, 3000)"
      ]
     },
     "execution_count": 13,
     "metadata": {},
     "output_type": "execute_result"
    }
   ],
   "source": [
    "max_steps = blocking_maze.max_steps\n",
    "rewards = np.zeros((dyna_q_params['average_runs'], 2, max_steps))\n",
    "# 20run、2個model、3000個steps\n",
    "rewards.shape"
   ]
  },
  {
   "cell_type": "code",
   "execution_count": 14,
   "metadata": {},
   "outputs": [
    {
     "name": "stderr",
     "output_type": "stream",
     "text": [
      "100%|██████████| 20/20 [01:25<00:00,  4.27s/it]"
     ]
    },
    {
     "name": "stdout",
     "output_type": "stream",
     "text": [
      "CPU times: user 1min 25s, sys: 499 ms, total: 1min 25s\n",
      "Wall time: 1min 25s\n"
     ]
    },
    {
     "name": "stderr",
     "output_type": "stream",
     "text": [
      "\n"
     ]
    }
   ],
   "source": [
    "%%time\n",
    "# 執行20次\n",
    "for run in tqdm(range(dyna_q_params['average_runs'])):\n",
    "    # 初始化兩個model\n",
    "    models = [TrivialModel(), TimeModel(blocking_maze,  dyna_q_params['time_weight'])]\n",
    "    \n",
    "    # 初始化兩種演算法的action value\n",
    "    q_values = [np.zeros(blocking_maze.value_size), np.zeros(blocking_maze.value_size)]\n",
    "    \n",
    "    for i in range(len(dyna_q_params['methods'])):\n",
    "        # 一開始是左邊開個洞的迷宮\n",
    "        blocking_maze.obstacles = blocking_maze.old_obstacles\n",
    "        \n",
    "        # 初始化step\n",
    "        steps = 0\n",
    "        last_steps = steps\n",
    "        # 3000個step為極限做迴圈\n",
    "        while steps < max_steps:\n",
    "            steps += dyna_q_algorithm(q_values[i], models[i], blocking_maze, dyna_q_params)\n",
    "            # 更新reward\n",
    "            # 這個執行區間內的reward都會變成起始那一個reward\n",
    "            rewards[run, i, last_steps: steps] = rewards[run, i, last_steps]\n",
    "            # 累加reward\n",
    "            rewards[run, i, min(steps, max_steps - 1)] = rewards[run, i, last_steps] + 1\n",
    "            \n",
    "            last_steps = steps\n",
    "            \n",
    "            # 1000個step之後環境變換\n",
    "            if steps > blocking_maze.time_to_switch:\n",
    "                blocking_maze.obstacles = blocking_maze.new_obstacles"
   ]
  },
  {
   "cell_type": "markdown",
   "metadata": {},
   "source": [
    "計算平均"
   ]
  },
  {
   "cell_type": "code",
   "execution_count": 15,
   "metadata": {},
   "outputs": [
    {
     "data": {
      "text/plain": [
       "(2, 3000)"
      ]
     },
     "execution_count": 15,
     "metadata": {},
     "output_type": "execute_result"
    }
   ],
   "source": [
    "# 延著0軸計算平均，所以0軸消失\n",
    "rewards = rewards.mean(axis=0)\n",
    "rewards.shape"
   ]
  },
  {
   "cell_type": "markdown",
   "metadata": {},
   "source": [
    "繪製圖面"
   ]
  },
  {
   "cell_type": "code",
   "execution_count": 16,
   "metadata": {},
   "outputs": [
    {
     "data": {
      "image/png": "[encoded data removed]",
      "text/plain": [
       "<Figure size 1152x720 with 1 Axes>"
      ]
     },
     "metadata": {
      "needs_background": "light"
     },
     "output_type": "display_data"
    }
   ],
   "source": [
    "plt.figure(figsize=(16, 10))\n",
    "\n",
    "for i in range(len(dyna_q_params['methods'])):\n",
    "    plt.plot(rewards[i, :], label=dyna_q_params['methods'][i])\n",
    "\n",
    "plt.xlabel('time steps')\n",
    "plt.ylabel('cumulative reward')\n",
    "plt.legend()\n",
    "plt.show()"
   ]
  }
 ],
 "metadata": {
  "kernelspec": {
   "display_name": "Python 3",
   "language": "python",
   "name": "python3"
  },
  "language_info": {
   "codemirror_mode": {
    "name": "ipython",
    "version": 3
   },
   "file_extension": ".py",
   "mimetype": "text/x-python",
   "name": "python",
   "nbconvert_exporter": "python",
   "pygments_lexer": "ipython3",
   "version": "3.6.9"
  }
 },
 "nbformat": 4,
 "nbformat_minor": 4
}
