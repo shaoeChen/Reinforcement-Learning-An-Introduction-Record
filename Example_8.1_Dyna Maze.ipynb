{
 "cells": [
  {
   "cell_type": "code",
   "execution_count": 1,
   "metadata": {},
   "outputs": [],
   "source": [
    "#######################################################################\n",
    "# Copyright (C)                                                       #\n",
    "# 2016-2018 Shangtong Zhang(zhangshangtong.cpp@gmail.com)             #\n",
    "# 2016 Kenta Shimada(hyperkentakun@gmail.com)                         #\n",
    "# Permission given to modify the code as long as you keep this        #\n",
    "# declaration at the top                                              #\n",
    "#######################################################################\n"
   ]
  },
  {
   "cell_type": "markdown",
   "metadata": {},
   "source": [
    "這次的範例主要參考[ShangtongZhang](https://github.com/ShangtongZhang/reinforcement-learning-an-introduction/blob/master/chapter07/random_walk.py)"
   ]
  },
  {
   "cell_type": "markdown",
   "metadata": {},
   "source": [
    "Chapter 8主要結合planning與learning，讓過往的經驗可以再次得到一次利用"
   ]
  },
  {
   "cell_type": "markdown",
   "metadata": {},
   "source": [
    "Example 8.1: Dyna Maze\n",
    "\n",
    "下面給出一個簡單的迷宮：\n",
    "![](https://i.imgur.com/pwVihdo.png)\n",
    "\n",
    "\n",
    "Figure 8.2: 一個簡單的迷宮(插圖)與Dyna-Q agent的平均學習曲線，每個real step不同的planning steps ($n$)計算而得。這個任務是要從$S$移動到$G$，愈快愈好。\n",
    "\n",
    "1. 這47個states(6\\*9-7個障礙物)都有四個actions，也就是上、下、左、右。如果碰到障礙物(深色的部份)或是邊緣那就停在原地，不然agent一樣是四面八方都可以隨便亂走\n",
    "2. 每次的轉移得到的reward都是0，如果進入目標狀態那reward就是+1\n",
    "3. 每次到達目標狀態$G$之後，agent就會回到起始狀態$S$來開始一個新的episode\n",
    "4. discount，$\\lambda = 0.95$\n",
    "\n",
    "Figure 8.2的主要部份說明著應用Dyna-Q agents到這個迷宮任務的平均學習曲線：\n",
    "* 初始的action values為0，\n",
    "* step-size $\\alpha=0.1$\n",
    "* $\\epsilon=0.1$\n",
    "\n",
    "當我們貪燹(greediy)的選擇著actions的時候，ties were broken randomly(這邊翻不出來，是指相同機率的時候就隨機選擇嗎?)。agent的planning steps $n$會各自不同，會在每個real step執行。對每一個$n$，曲線說明著agent在每個episodes到達目標所採取的steps的數量，平均超過30次的反覆實驗。在每次的實驗過程中，random seed是維持不變的。因為這樣，不管你的$n$為何，第一個episode是完全相同的(約1700 steps)，所以它的資料就沒有呈現在圖表上。第一個episode之後，不管$n$值為何，效能都提升了，值得注意的是，對於$n$值較大的數值，效能提升的更快。回頭想想，當$n=0$的時候，agent就是一個nonplanning的agent，就只是一個direct RL(one-step tabular Q-learning)。這是就這問題上，當今世上最慢的agent，儘管它的參數($\\alpha, \\epsilon$)已經是最好的，依然如此。這個nonplanning agent大概需要25個episodes才能來到$(\\epsilon-)$optimal，然後，當$n=5$的時候就大概需要5個episodes，$n=50$的時候就只需要3個episodes。\n",
    "\n",
    "Figure 8.3說明著為什麼planning agent找出解的速度會比nonplanning agent還要來的快的原因。兩張圖各自是$n=0, n=50$在第二個episodes的途中找出來的解。沒有planning，也就是$n=0$的情況下，每個episodes就只會增加額外的一個step到policy，所以目前為止就只學到一個step，也就是最後那個step。不過當你用planning的時候，雖然第一個episode一樣是只學習到一個step，但是在第二個episode的過程中就已經弄出一個非常廣泛的策略(extensive policy)，你已經幾乎可以從目標狀態回到起始狀態了。到第三個episode結束的時候，你已經可以找到一個optimal policy，而且效能完美。\n",
    "\n",
    "\n",
    "![](https://i.imgur.com/XirykSU.png)\n",
    "\n",
    "Figure 8.3: Dyna-Q agent在第二個episode途中所找到的policy(nonplanning、planning)。箭頭指出的是每個state的greedy action；如果某一個state沒有箭頭，那就代表所有的action values都是相等的。黑色區域代表agent的所在區域。"
   ]
  },
  {
   "cell_type": "markdown",
   "metadata": {},
   "source": [
    "首先載入需求套件"
   ]
  },
  {
   "cell_type": "code",
   "execution_count": 2,
   "metadata": {},
   "outputs": [],
   "source": [
    "import numpy as np\n",
    "import matplotlib.pyplot as plt\n",
    "from tqdm import tqdm\n",
    "import heapq\n",
    "from copy import deepcopy"
   ]
  },
  {
   "cell_type": "markdown",
   "metadata": {},
   "source": [
    "首先設置Environment"
   ]
  },
  {
   "cell_type": "code",
   "execution_count": 3,
   "metadata": {},
   "outputs": [],
   "source": [
    "class Maze:\n",
    "    def __init__(self):\n",
    "        \"\"\"初始化環境\n",
    "        \n",
    "        根據範例說明：\n",
    "        1. 這是一個寬9高6的gridworld\n",
    "        2. 每個episode的start state都是[2, 0]\n",
    "        3. goal state為[8, 0]\n",
    "        4. 我們能做的action就是上下左右\n",
    "        5. 路面上是有障礙\n",
    "        \"\"\"\n",
    "        self.WORLD_WIDTH = 9\n",
    "        self.WORLD_HEIGHT = 6\n",
    "        \n",
    "        self.START_STATE = [2, 0]\n",
    "        self.GOAL_STATE = [0, 8]\n",
    "        \n",
    "        self.ACTION_UP = 0\n",
    "        self.ACTION_DOWN = 1\n",
    "        self.ACTION_LEFT = 2\n",
    "        self.ACTION_RIGHT = 3\n",
    "        self.action_space = [self.ACTION_UP, self.ACTION_DOWN, self.ACTION_LEFT, self.ACTION_RIGHT]\n",
    "        # 障礙設置\n",
    "        self.obstacles = [[1, 2], [2, 2], [3, 2], \n",
    "                          [4, 5], \n",
    "                          [0, 7], [1, 7], [2, 7]]\n",
    "        \n",
    "        self.value_size = (self.WORLD_HEIGHT, self.WORLD_WIDTH, len(self.action_space))\n",
    "        \n",
    "        self.max_steps = float('inf')\n",
    "        \n",
    "    def step(self, state, action):\n",
    "        \"\"\"run step according action\n",
    "        \n",
    "        state: 當前的狀態\n",
    "        action: 要執行的action\n",
    "        \n",
    "        幾點要注意：\n",
    "            1. 不能超出邊界，這可以用max、min來處理\n",
    "            2. 撞到障礙就是停在原地\n",
    "            3. 每次的reward都是0，除非你到達goal state\n",
    "            \n",
    "        return next_state, reward\n",
    "        \"\"\"\n",
    "        x, y = state\n",
    "        \n",
    "        if action == self.ACTION_UP:\n",
    "            x = max(x - 1, 0)\n",
    "        elif  action == self.ACTION_DOWN:\n",
    "            x = min(x + 1, self.WORLD_HEIGHT - 1)\n",
    "        elif  action == self.ACTION_LEFT:\n",
    "            y = max(y - 1, 0)\n",
    "        elif  action == self.ACTION_RIGHT:\n",
    "            y = min(y + 1, self.WORLD_WIDTH - 1)\n",
    "        \n",
    "        if [x, y] in self.obstacles:\n",
    "            x, y = state\n",
    "        \n",
    "        if [x, y] == self.GOAL_STATE:\n",
    "            reward = 1.0\n",
    "        else:\n",
    "            reward = 0.0\n",
    "        \n",
    "        return [x, y], reward\n",
    "        "
   ]
  },
  {
   "cell_type": "code",
   "execution_count": 4,
   "metadata": {},
   "outputs": [],
   "source": [
    "maze = Maze()\n",
    "assert maze.START_STATE == [2, 0]\n",
    "assert (maze.step([2, 0], 0)) == ([1, 0], 0)"
   ]
  },
  {
   "cell_type": "code",
   "execution_count": 5,
   "metadata": {},
   "outputs": [
    {
     "data": {
      "text/plain": [
       "[0, 8]"
      ]
     },
     "execution_count": 5,
     "metadata": {},
     "output_type": "execute_result"
    }
   ],
   "source": [
    "maze.GOAL_STATE"
   ]
  },
  {
   "cell_type": "markdown",
   "metadata": {},
   "source": [
    "然後我們會需要一個model來記錄曾經有過的經驗"
   ]
  },
  {
   "cell_type": "code",
   "execution_count": 6,
   "metadata": {},
   "outputs": [],
   "source": [
    "class TrivialModel:\n",
    "    def __init__(self, rand=np.random):\n",
    "        # 用dict來做模型，反正我們只會記錄該state-action pair最後一次的經驗\n",
    "        self.model = dict()\n",
    "        self.rand = rand\n",
    "        self.rand.seed(10)\n",
    "    \n",
    "    def feed(self, state, action, next_state, reward):\n",
    "        \"\"\"記錄經驗\"\"\"\n",
    "        state = deepcopy(state)\n",
    "        next_state = deepcopy(next_state)\n",
    "        \n",
    "        # 判斷該組state是否存在目前的model\n",
    "        # 如不存在就賦予一個預設值\n",
    "        if tuple(state) not in self.model.keys():\n",
    "            self.model[tuple(state)] = dict()\n",
    "        self.model[tuple(state)][action] = [list(next_state), reward]\n",
    "        \n",
    "    def sample(self):\n",
    "        \"\"\"隨機取一筆經驗出來再做更新\"\"\"\n",
    "        state_index = self.rand.choice(range(len(self.model.keys())))\n",
    "        state = list(self.model)[state_index]\n",
    "        action_index = self.rand.choice(range(len(self.model[state].keys())))\n",
    "        action = list(self.model[state])[action_index]\n",
    "        next_state, reward = self.model[state][action]\n",
    "        state = deepcopy(state)\n",
    "        next_state = deepcopy(next_state)\n",
    "        return list(state), action, list(next_state), reward"
   ]
  },
  {
   "cell_type": "markdown",
   "metadata": {},
   "source": [
    "然後我們來設置一下Dyna-Q所需要的參數：\n",
    "* gamma: discount factor\n",
    "* epsilon: 探索的機率\n",
    "* planning_steps: planning steps\n",
    "* average_runs: 幾次的run計算平均"
   ]
  },
  {
   "cell_type": "code",
   "execution_count": 7,
   "metadata": {},
   "outputs": [],
   "source": [
    "dyna_q_params = {\n",
    "    'gamma': 0.95,\n",
    "    'epsilon': 0.1,\n",
    "    'planning_steps': 5,\n",
    "    'average_runs': 10,     \n",
    "    'alpha': 0.1\n",
    "}"
   ]
  },
  {
   "cell_type": "markdown",
   "metadata": {},
   "source": [
    "設置一個已經很熟悉的，用來選擇action的function"
   ]
  },
  {
   "cell_type": "code",
   "execution_count": 8,
   "metadata": {},
   "outputs": [],
   "source": [
    "def action_selection(state, q_values, maze, dyna_params):\n",
    "    \"\"\"選擇action的function\n",
    "    \n",
    "    state: current state\n",
    "    q_values: value function\n",
    "    maze: object for Maze\n",
    "    dyna_params: algorithm's parameters\n",
    "    \"\"\"\n",
    "    if np.random.binomial(1, dyna_q_params['epsilon']) == 1:\n",
    "        return np.random.choice(maze.action_space)\n",
    "    else:\n",
    "        # 取得該state的所有可能的action\n",
    "        values = q_values[state[0], state[1], :]\n",
    "        return np.random.choice([action for action, value in enumerate(values) if value == np.max(values)])\n",
    "    "
   ]
  },
  {
   "cell_type": "markdown",
   "metadata": {},
   "source": [
    "接著來設置Dyna-Q algorithm，下面給出完整演算法的pseudocode"
   ]
  },
  {
   "cell_type": "markdown",
   "metadata": {},
   "source": [
    "![](https://i.imgur.com/jo168Rh.png)"
   ]
  },
  {
   "cell_type": "code",
   "execution_count": 9,
   "metadata": {},
   "outputs": [],
   "source": [
    "def dyna_q_algorithm(q_values, model, maze, params):\n",
    "    \"\"\"dyna_q algorithm\n",
    "    \n",
    "    q_values: action-value function\n",
    "    model: for planning\n",
    "    maze: environment\n",
    "    params: for dyna_q's parameters\n",
    "    \n",
    "    見上演算法說明\n",
    "    \"\"\"\n",
    "    # (a) current state\n",
    "    state = maze.START_STATE\n",
    "    steps = 0\n",
    "    \n",
    "    # 一直到agent走到目標之前就是一路迴圈執行\n",
    "    while state != maze.GOAL_STATE:        \n",
    "        # 記錄當下的steps\n",
    "        steps += 1\n",
    "        \n",
    "        # (b) 取得action\n",
    "        action = action_selection(state, q_values, maze, params)\n",
    "        \n",
    "        # (c) 執行action，得到next state與reward\n",
    "        next_state, reward = maze.step(state, action)\n",
    "        \n",
    "        # (d) 做一次Q-learning的更新\n",
    "        q_value[state[0], state[1], action] += \\\n",
    "            params['alpha'] * (reward + params['gamma'] * np.max(q_values[next_state[0], next_state[1], :]) \\\n",
    "                - q_values[state[0], state[1], action])\n",
    "        \n",
    "        # (e) 資料寫入模型\n",
    "        model.feed(state, action, next_state, reward)\n",
    "        \n",
    "        # (f) 迴圈執行planning_steps次\n",
    "        for t in range(0, params['planning_steps']):            \n",
    "            # 隨機的從模型中取一筆資料\n",
    "            # 從經驗中學習，其實就是用sample到的資料再做一次更新\n",
    "            _state, _action, _next_state, _reward = model.sample()\n",
    "            q_value[_state[0], _state[1], _action] += \\\n",
    "            params['alpha'] * (_reward + params['gamma'] * np.max(q_values[_next_state[0], _next_state[1], :]) \\\n",
    "                - q_values[_state[0], _state[1], _action])\n",
    "            \n",
    "        state = next_state\n",
    "        \n",
    "        if steps > maze.max_steps:\n",
    "            break\n",
    "    \n",
    "    return steps"
   ]
  },
  {
   "cell_type": "markdown",
   "metadata": {},
   "source": [
    "演算法的部份也已經好了，現在我們可以來處理實際要執行的過程了"
   ]
  },
  {
   "cell_type": "markdown",
   "metadata": {},
   "source": [
    "首先初始化需求的物件"
   ]
  },
  {
   "cell_type": "code",
   "execution_count": 10,
   "metadata": {},
   "outputs": [],
   "source": [
    "dynaQ_maze = Maze()"
   ]
  },
  {
   "cell_type": "markdown",
   "metadata": {},
   "source": [
    "然後我們也已經有env的參數"
   ]
  },
  {
   "cell_type": "code",
   "execution_count": 11,
   "metadata": {},
   "outputs": [
    {
     "data": {
      "text/plain": [
       "{'gamma': 0.95,\n",
       " 'epsilon': 0.1,\n",
       " 'planning_steps': 5,\n",
       " 'average_runs': 10,\n",
       " 'alpha': 0.1}"
      ]
     },
     "execution_count": 11,
     "metadata": {},
     "output_type": "execute_result"
    }
   ],
   "source": [
    "dyna_q_params"
   ]
  },
  {
   "cell_type": "markdown",
   "metadata": {},
   "source": [
    "接下來設置一些過程中需要的參數"
   ]
  },
  {
   "cell_type": "code",
   "execution_count": 12,
   "metadata": {},
   "outputs": [],
   "source": [
    "runs = 30 # 執行幾次\n",
    "episodes = 50 # 跑幾個episode\n",
    "planning_steps = [0, 5, 50] # 不同的plannint steps\n",
    "steps = np.zeros((len(planning_steps), episodes)) # 要比較不同planning step的結果"
   ]
  },
  {
   "cell_type": "code",
   "execution_count": 13,
   "metadata": {},
   "outputs": [
    {
     "data": {
      "text/plain": [
       "(3, 50)"
      ]
     },
     "execution_count": 13,
     "metadata": {},
     "output_type": "execute_result"
    }
   ],
   "source": [
    "steps.shape"
   ]
  },
  {
   "cell_type": "code",
   "execution_count": 14,
   "metadata": {},
   "outputs": [
    {
     "name": "stderr",
     "output_type": "stream",
     "text": [
      "100%|██████████| 30/30 [01:54<00:00,  3.80s/it]"
     ]
    },
    {
     "name": "stdout",
     "output_type": "stream",
     "text": [
      "CPU times: user 1min 54s, sys: 530 ms, total: 1min 54s\n",
      "Wall time: 1min 54s\n"
     ]
    },
    {
     "name": "stderr",
     "output_type": "stream",
     "text": [
      "\n"
     ]
    }
   ],
   "source": [
    "%%time\n",
    "for run in tqdm(range(runs)):    \n",
    "    for i, planning_step in enumerate(planning_steps):        \n",
    "        dyna_q_params['planning_steps'] = planning_step\n",
    "        # 初始化action-value function\n",
    "        q_value = np.zeros(dynaQ_maze.value_size)        \n",
    "        # 初始化一個model，在這邊初始化是因為我們要分多個planning steps來記錄\n",
    "        model = TrivialModel()\n",
    "        \n",
    "        for episode in range(episodes):                        \n",
    "            steps[i, episode] += dyna_q_algorithm(q_value, model, dynaQ_maze, dyna_q_params)\n",
    "            "
   ]
  },
  {
   "cell_type": "markdown",
   "metadata": {},
   "source": [
    "計算平均"
   ]
  },
  {
   "cell_type": "code",
   "execution_count": 15,
   "metadata": {},
   "outputs": [],
   "source": [
    "steps /= runs"
   ]
  },
  {
   "cell_type": "markdown",
   "metadata": {},
   "source": [
    "繪製圖面"
   ]
  },
  {
   "cell_type": "code",
   "execution_count": 16,
   "metadata": {},
   "outputs": [
    {
     "data": {
      "image/png": "[encoded data removed]",
      "text/plain": [
       "<Figure size 1152x720 with 1 Axes>"
      ]
     },
     "metadata": {
      "needs_background": "light"
     },
     "output_type": "display_data"
    }
   ],
   "source": [
    "plt.figure(figsize=(16, 10))\n",
    "for i in range(len(planning_steps)):\n",
    "    plt.plot(steps[i, :], label='%d planning steps' % (planning_steps[i]))\n",
    "\n",
    "plt.xlabel('episodes')\n",
    "plt.ylabel('steps per episode')\n",
    "plt.legend()\n",
    "plt.show()"
   ]
  },
  {
   "cell_type": "markdown",
   "metadata": {},
   "source": [
    "把policy繪製出來"
   ]
  },
  {
   "cell_type": "code",
   "execution_count": 17,
   "metadata": {},
   "outputs": [],
   "source": [
    "ACTION_FLAGS=['↑', '↓', '←', '→'] "
   ]
  },
  {
   "cell_type": "code",
   "execution_count": 18,
   "metadata": {},
   "outputs": [],
   "source": [
    "from matplotlib.table import Table\n",
    "\n",
    "def draw_policy(q_values, maze):\n",
    "    \"\"\"\n",
    "    繪製policy\n",
    "    \n",
    "    q_values: action-value function\n",
    "    maze: Maze object\n",
    "    \"\"\"\n",
    "    fig, ax = plt.subplots()\n",
    "    ax.set_axis_off() # 隱藏圖表的軸線\n",
    "    tb = Table(ax) # new一個Table object\n",
    "    \n",
    "    # 設置表格大小\n",
    "    nrows, ncols = q_values.shape[0: 2]\n",
    "    width = 1.0 / ncols\n",
    "    height = 1.0 / nrows\n",
    "    \n",
    "    # loop action-value function\n",
    "    for i in range(nrows):\n",
    "        for j in range(ncols):\n",
    "            # 取得最佳的action index\n",
    "            best_action = np.argmax(q_values[i, j, :])\n",
    "            \n",
    "            action_flag = ACTION_FLAGS[best_action]\n",
    "            \n",
    "            if [i, j] == maze.START_STATE:\n",
    "                action_flag = 'S'\n",
    "            elif [i, j] == maze.GOAL_STATE:\n",
    "                action_flag = 'G'\n",
    "            elif [i, j] in maze.obstacles:\n",
    "                action_flag = 'W'\n",
    "            \n",
    "            tb.add_cell(i, j, width, height, text=action_flag, loc='center', facecolor='white')\n",
    "            \n",
    "    ax.add_table(tb)"
   ]
  },
  {
   "cell_type": "code",
   "execution_count": 19,
   "metadata": {},
   "outputs": [
    {
     "data": {
      "image/png": "[encoded data removed]",
      "text/plain": [
       "<Figure size 432x288 with 1 Axes>"
      ]
     },
     "metadata": {
      "needs_background": "light"
     },
     "output_type": "display_data"
    }
   ],
   "source": [
    "draw_policy(q_value, maze)"
   ]
  }
 ],
 "metadata": {
  "kernelspec": {
   "display_name": "Python 3",
   "language": "python",
   "name": "python3"
  },
  "language_info": {
   "codemirror_mode": {
    "name": "ipython",
    "version": 3
   },
   "file_extension": ".py",
   "mimetype": "text/x-python",
   "name": "python",
   "nbconvert_exporter": "python",
   "pygments_lexer": "ipython3",
   "version": "3.6.9"
  }
 },
 "nbformat": 4,
 "nbformat_minor": 4
}
