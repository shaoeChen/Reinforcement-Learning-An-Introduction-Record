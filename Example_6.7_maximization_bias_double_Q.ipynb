{
 "cells": [
  {
   "cell_type": "code",
   "execution_count": 1,
   "metadata": {},
   "outputs": [],
   "source": [
    "#######################################################################\n",
    "# Copyright (C)                                                       #\n",
    "# 2016-2018 Shangtong Zhang(zhangshangtong.cpp@gmail.com)             #\n",
    "# 2016 Kenta Shimada(hyperkentakun@gmail.com)                         #\n",
    "# Permission given to modify the code as long as you keep this        #\n",
    "# declaration at the top                                              #\n",
    "#######################################################################\n"
   ]
  },
  {
   "cell_type": "markdown",
   "metadata": {},
   "source": [
    "這邊參考的主要來源是[ShangtongZhang](https://github.com/ShangtongZhang/reinforcement-learning-an-introduction/blob/master/chapter06/windy_grid_world.py)"
   ]
  },
  {
   "cell_type": "markdown",
   "metadata": {},
   "source": [
    "Example 6.7: Maximization Bias Example\n",
    "\n",
    "![](https://i.imgur.com/eIvX9qL.png)\n",
    "Figure 6.5：在一個簡單的episodic MDP上比較Q-learning與Double Q-learning(如插圖所示)。Q-learning一開始學習到採用left的頻率比right還要來的多次， 而且機率明顯高過於$\\epsilon=0.1$所強制的最小5%的機率。相比之下，Double Q-learning就不受maximization bias的影響。這些資料是執行10,000次的平均。初始的action-value為0。Any ties in $\\epsilon$-greedy action selection were broken randomly. (這句真的不會翻，不過意思大致就是，當你遇到兩個action的機率一致的時候就隨機選一個吧。)\n",
    "\n",
    "Figure 6.5那個小小的MDP插圖提供簡單的範例，說明maximization bias如何對TD control algorithms造成傷害：\n",
    "1. 有一個MPD，它有兩個non-terminal states $A$、$B$\n",
    "2. episode都是從$A$開始\n",
    "3. 兩個actions，左、右\n",
    "4. 如果選擇右，那就會馬上進入終止狀態(terminal state)，然後reward、return都是0\n",
    "5. 如果選擇左，那就轉移至$B$，然後reward也是0，然後接續會有很多actions都會導致立即終止，然後會從一個均值為-0.1、方差為1.0的均勻分佈中得到一個reward\n",
    "\n",
    "好，現在我們知道，對於任意一個trajectory是從左這個action開始的expected return都是-0.1，這樣子，你在$A$選擇左這個action就是錯的。\n",
    "\n",
    "儘管如此，我們的control methods也許會喜歡\"左\"這個action，因為maximization bias讓$B$明顯的有positive value。所以你看一下上面的圖也不難發現，用著$\\epsilon-$greedy的Q-learning一開始的學習是非常愛好\"左\"這個action。即使在漸近線處，選擇\"左\"的機率也還是比我們參數設置($\\epsilon=0.1, \\alpha=0.1, \\gamma=1$)的最佳值高了大約5%。"
   ]
  },
  {
   "cell_type": "markdown",
   "metadata": {},
   "source": [
    "載入需求套件"
   ]
  },
  {
   "cell_type": "code",
   "execution_count": 2,
   "metadata": {},
   "outputs": [],
   "source": [
    "import numpy as np\n",
    "import matplotlib.pyplot as plt\n",
    "from tqdm import tqdm\n",
    "import copy"
   ]
  },
  {
   "cell_type": "markdown",
   "metadata": {},
   "source": [
    "根據說明，會有兩個nonterminal states"
   ]
  },
  {
   "cell_type": "code",
   "execution_count": 3,
   "metadata": {},
   "outputs": [],
   "source": [
    "STATE_A = 0\n",
    "STATE_B = 1\n",
    "STATE_TERMINAL = 2"
   ]
  },
  {
   "cell_type": "markdown",
   "metadata": {},
   "source": [
    "根據說明，每一個episode都是從A開始"
   ]
  },
  {
   "cell_type": "code",
   "execution_count": 4,
   "metadata": {},
   "outputs": [],
   "source": [
    "START_STATE = STATE_A"
   ]
  },
  {
   "cell_type": "markdown",
   "metadata": {},
   "source": [
    "定義環境參數"
   ]
  },
  {
   "cell_type": "code",
   "execution_count": 5,
   "metadata": {},
   "outputs": [],
   "source": [
    "EPSILON = 0.1\n",
    "STEP_SIZE = 0.1\n",
    "DISCOUNT_RATE = 1.0"
   ]
  },
  {
   "cell_type": "markdown",
   "metadata": {},
   "source": [
    "定義STATE A的action space"
   ]
  },
  {
   "cell_type": "code",
   "execution_count": 6,
   "metadata": {},
   "outputs": [],
   "source": [
    "ACTION_A_LEFT = 1\n",
    "ACTION_A_RIGHT = 0"
   ]
  },
  {
   "cell_type": "markdown",
   "metadata": {},
   "source": [
    "定義B的action space，根據說明，進入B之後你有超級多個actions給你選擇"
   ]
  },
  {
   "cell_type": "code",
   "execution_count": 7,
   "metadata": {},
   "outputs": [],
   "source": [
    "ACTION_B = range(0, 10)"
   ]
  },
  {
   "cell_type": "markdown",
   "metadata": {},
   "source": [
    "完整的action space"
   ]
  },
  {
   "cell_type": "code",
   "execution_count": 8,
   "metadata": {},
   "outputs": [
    {
     "data": {
      "text/plain": [
       "[[0, 1], range(0, 10)]"
      ]
     },
     "execution_count": 8,
     "metadata": {},
     "output_type": "execute_result"
    }
   ],
   "source": [
    "ACTION_SPACE = [[ACTION_A_RIGHT, ACTION_A_LEFT], ACTION_B]\n",
    "ACTION_SPACE"
   ]
  },
  {
   "cell_type": "markdown",
   "metadata": {},
   "source": [
    "初始化Q values，根據說明，全部初始化為0，多一個是用來記錄terminal state"
   ]
  },
  {
   "cell_type": "code",
   "execution_count": 9,
   "metadata": {},
   "outputs": [
    {
     "data": {
      "text/plain": [
       "[array([0., 0.]), array([0., 0., 0., 0., 0., 0., 0., 0., 0., 0.]), array([0.])]"
      ]
     },
     "execution_count": 9,
     "metadata": {},
     "output_type": "execute_result"
    }
   ],
   "source": [
    "INIT_Q = [np.zeros(2), np.zeros(len(ACTION_B)), np.zeros(1)]\n",
    "INIT_Q"
   ]
  },
  {
   "cell_type": "markdown",
   "metadata": {},
   "source": [
    "狀態的轉移，如果是state A的話，那就會是往右，也就是terminal state，或是往左，也就是進入B，這要搭配上面設置的action。如果是B的話就會是好多個選擇，但是都還是會進入terminal state"
   ]
  },
  {
   "cell_type": "code",
   "execution_count": 10,
   "metadata": {},
   "outputs": [
    {
     "data": {
      "text/plain": [
       "[[2, 1], [2, 2, 2, 2, 2, 2, 2, 2, 2, 2]]"
      ]
     },
     "execution_count": 10,
     "metadata": {},
     "output_type": "execute_result"
    }
   ],
   "source": [
    "TRANSITION = [[STATE_TERMINAL, STATE_B], [STATE_TERMINAL] * len(ACTION_B)]\n",
    "TRANSITION"
   ]
  },
  {
   "cell_type": "markdown",
   "metadata": {},
   "source": [
    "定義一個選擇action的函數"
   ]
  },
  {
   "cell_type": "code",
   "execution_count": 11,
   "metadata": {},
   "outputs": [],
   "source": [
    "def select_action(q_values, state):\n",
    "    if np.random.binomial(1, EPSILON) == 1:\n",
    "        return np.random.choice(ACTION_SPACE[state])\n",
    "    else:\n",
    "        _values = q_values[state]\n",
    "        return np.random.choice([_action for _action, _value in enumerate(_values) if _value == np.max(_values)])"
   ]
  },
  {
   "cell_type": "markdown",
   "metadata": {},
   "source": [
    "根據說明，進入state B之後，就會從均值為-0.1、方差為1的均勻分佈中得到一個reward，也就是在這邊會產生positive bias"
   ]
  },
  {
   "cell_type": "code",
   "execution_count": 12,
   "metadata": {},
   "outputs": [],
   "source": [
    "def get_normal_reward(state, action):\n",
    "    if state == STATE_A:\n",
    "        return 0\n",
    "    return np.random.normal(-0.1, 1)"
   ]
  },
  {
   "cell_type": "code",
   "execution_count": 13,
   "metadata": {},
   "outputs": [
    {
     "data": {
      "text/plain": [
       "1.3850611273429807"
      ]
     },
     "execution_count": 13,
     "metadata": {},
     "output_type": "execute_result"
    }
   ],
   "source": [
    "get_normal_reward(1, 2)"
   ]
  },
  {
   "cell_type": "code",
   "execution_count": 25,
   "metadata": {},
   "outputs": [
    {
     "data": {
      "text/plain": [
       "0"
      ]
     },
     "execution_count": 25,
     "metadata": {},
     "output_type": "execute_result"
    }
   ],
   "source": [
    "get_normal_reward(0, 2)"
   ]
  },
  {
   "cell_type": "markdown",
   "metadata": {},
   "source": [
    "現在讓我們來定義learning algorithm"
   ]
  },
  {
   "cell_type": "markdown",
   "metadata": {},
   "source": [
    "下面給出完整的演算法做為參考：  \n",
    "![](https://i.imgur.com/lZFOlUq.png)"
   ]
  },
  {
   "cell_type": "code",
   "execution_count": 14,
   "metadata": {},
   "outputs": [],
   "source": [
    "def q_learning(q1, q2=None):\n",
    "    \"\"\"Q-learning\n",
    "    如果存在q2那就使用double q learning\n",
    "    \"\"\"\n",
    "    state = START_STATE\n",
    "    # 因為我們要跟著範例確認在state A的時候left被執行幾次，所以這邊要設個參數來記錄\n",
    "    action_left_count = 0\n",
    "    while state != STATE_TERMINAL:\n",
    "        # 如果不是double q，那就直接由q1取出一個action\n",
    "        # 如果是，那就兩個value function加總起來做選擇\n",
    "        if q2 is None:\n",
    "            action = select_action(q1, state)\n",
    "        else:\n",
    "            action = select_action([_q1 + _q2 for _q1, _q2 in zip(q1, q2)], state)\n",
    "        \n",
    "        if state == STATE_A and action == ACTION_A_LEFT:\n",
    "            action_left_count += 1\n",
    "        # 如果state是A那reward就是0，不然就是從normal distribution中取得reward\n",
    "        reward = get_normal_reward(state, action)\n",
    "        next_state = TRANSITION[state][action]\n",
    "        \n",
    "        if q2 is None:\n",
    "            active_q = q1\n",
    "            target = np.max(active_q[next_state])\n",
    "        else:\n",
    "            # 如果是double q learning，那就50/50的機率\n",
    "            if np.random.binomial(1, 0.5) == 1:\n",
    "                active_q = q1\n",
    "                target_q = q2\n",
    "            else:\n",
    "                active_q = q2\n",
    "                target_q = q1\n",
    "                \n",
    "            # 根據公式，我們會從action q中取得最大value的那個action\n",
    "            best_action = np.random.choice([action_ for action_, value_ in enumerate(active_q[next_state]) if value_ == np.max(active_q[next_state])])\n",
    "            # 再用target q來評估這個action有多好\n",
    "            target = target_q[next_state][best_action]\n",
    "        \n",
    "        # 更新\n",
    "        active_q[state][action] += STEP_SIZE * (\n",
    "            reward + DISCOUNT_RATE * target - active_q[state][action]\n",
    "        )\n",
    "        state = next_state\n",
    "    return action_left_count"
   ]
  },
  {
   "cell_type": "markdown",
   "metadata": {},
   "source": [
    "現在我們可以來試著執行了"
   ]
  },
  {
   "cell_type": "markdown",
   "metadata": {},
   "source": [
    "首先定義執行次數"
   ]
  },
  {
   "cell_type": "code",
   "execution_count": 15,
   "metadata": {},
   "outputs": [],
   "source": [
    "episodes = 300\n",
    "runs = 1000"
   ]
  },
  {
   "cell_type": "markdown",
   "metadata": {},
   "source": [
    "設置參數來記錄在state A執行left的次數"
   ]
  },
  {
   "cell_type": "code",
   "execution_count": 16,
   "metadata": {},
   "outputs": [],
   "source": [
    "left_counts_q = np.zeros((runs, episodes))\n",
    "left_counts_double_q = np.zeros((runs, episodes))"
   ]
  },
  {
   "cell_type": "markdown",
   "metadata": {},
   "source": [
    "執行"
   ]
  },
  {
   "cell_type": "code",
   "execution_count": 19,
   "metadata": {},
   "outputs": [
    {
     "name": "stderr",
     "output_type": "stream",
     "text": [
      "100%|██████████| 1000/1000 [00:44<00:00, 22.41it/s]\n"
     ]
    }
   ],
   "source": [
    "for run in tqdm(range(runs)):\n",
    "    q1 = copy.deepcopy(INIT_Q)\n",
    "    q2 = copy.deepcopy(INIT_Q)\n",
    "    q3 = copy.deepcopy(INIT_Q)\n",
    "    \n",
    "    for episode in range(episodes):\n",
    "        left_counts_q[run, episode] = q_learning(q1)\n",
    "        left_counts_double_q[run, episode] = q_learning(q2, q3)"
   ]
  },
  {
   "cell_type": "markdown",
   "metadata": {},
   "source": [
    "計算均值"
   ]
  },
  {
   "cell_type": "code",
   "execution_count": 20,
   "metadata": {},
   "outputs": [],
   "source": [
    "left_counts_q = left_counts_q.mean(axis=0)\n",
    "left_counts_double_q = left_counts_double_q.mean(axis=0)"
   ]
  },
  {
   "cell_type": "markdown",
   "metadata": {},
   "source": [
    "繪圖"
   ]
  },
  {
   "cell_type": "code",
   "execution_count": 22,
   "metadata": {},
   "outputs": [
    {
     "data": {
      "image/png": "[encoded data removed]",
      "text/plain": [
       "<Figure size 1152x648 with 1 Axes>"
      ]
     },
     "metadata": {
      "needs_background": "light"
     },
     "output_type": "display_data"
    }
   ],
   "source": [
    "plt.figure(figsize=(16, 9))\n",
    "plt.plot(left_counts_q, label='Q-learning')\n",
    "plt.plot(left_counts_double_q, label='Double Q-learning')\n",
    "plt.plot(np.ones(episodes) * 0.05, label='Optimal')\n",
    "plt.xlabel('episodes')\n",
    "plt.ylabel('% left actions from A')\n",
    "plt.legend()\n",
    "plt.show()"
   ]
  }
 ],
 "metadata": {
  "kernelspec": {
   "display_name": "Python 3",
   "language": "python",
   "name": "python3"
  },
  "language_info": {
   "codemirror_mode": {
    "name": "ipython",
    "version": 3
   },
   "file_extension": ".py",
   "mimetype": "text/x-python",
   "name": "python",
   "nbconvert_exporter": "python",
   "pygments_lexer": "ipython3",
   "version": "3.6.9"
  }
 },
 "nbformat": 4,
 "nbformat_minor": 4
}
