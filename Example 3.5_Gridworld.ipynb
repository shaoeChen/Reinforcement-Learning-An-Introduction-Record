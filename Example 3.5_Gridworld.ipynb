{
 "cells": [
  {
   "cell_type": "markdown",
   "metadata": {},
   "source": [
    "文章連結：[Reinforcement Learning: An Introduction_Chapter 3 Finite Markov Decision Processes](https://hackmd.io/@shaoeChen/Hkm3mMjL_)  \n",
    "參考來源：[ShangtongZhang/reinforcement-learning-an-introduction](https://github.com/ShangtongZhang/reinforcement-learning-an-introduction)  \n"
   ]
  },
  {
   "cell_type": "markdown",
   "metadata": {},
   "source": [
    "引入需求套件"
   ]
  },
  {
   "cell_type": "code",
   "execution_count": 24,
   "metadata": {},
   "outputs": [],
   "source": [
    "import matplotlib\n",
    "import matplotlib.pyplot as plt\n",
    "import numpy as np\n",
    "from matplotlib.table import Table\n",
    "\n",
    "%matplotlib inline  \n",
    "# matplotlib.use('Agg') # 這段的用意在於不讓圖片顯示"
   ]
  },
  {
   "cell_type": "markdown",
   "metadata": {},
   "source": [
    "下面做環境設置：\n",
    "1. 這是一個5x5的格子\n",
    "2. A的位置在(0, 1)\n",
    "3. A'的位置在(4, 1)\n",
    "4. B的位置在(0, 3)\n",
    "5. B'的位置在(2, 3)\n",
    "6. $\\gamma=0.9$(discount)"
   ]
  },
  {
   "cell_type": "code",
   "execution_count": 6,
   "metadata": {},
   "outputs": [],
   "source": [
    "GRID_SIZE = 5\n",
    "A_LOC = [0, 1]\n",
    "A_JUMP_LOC = [4, 1]\n",
    "B_LOC = [0, 3]\n",
    "B_JUMP_LOC = [2, 3]\n",
    "GAMMA = 0.9"
   ]
  },
  {
   "cell_type": "markdown",
   "metadata": {},
   "source": [
    "定義actions：\n",
    "1. 上，(-1, 不變)\n",
    "2. 下，(+1, 不變)\n",
    "3. 左，(不變, -1)\n",
    "4. 右，(不變, +1)\n",
    "5. 四個方向的機率是相同的，意謂著皆為25%"
   ]
  },
  {
   "cell_type": "code",
   "execution_count": 7,
   "metadata": {},
   "outputs": [],
   "source": [
    "ACTIONS = [\n",
    "    np.array([-1, 0]), # 上\n",
    "    np.array([1, 0]), # 下\n",
    "    np.array([0, -1]), # 左\n",
    "    np.array([0, 1]), # 右    \n",
    "]\n",
    "\n",
    "ACTION_FLAGS=[ '↑', '↓', '←', '→'] # 標記\n",
    "ACTION_PROB = 0.25"
   ]
  },
  {
   "cell_type": "markdown",
   "metadata": {},
   "source": [
    "定義每一個time step在執行action之後的變化"
   ]
  },
  {
   "cell_type": "code",
   "execution_count": 55,
   "metadata": {},
   "outputs": [],
   "source": [
    "def step(state, action):\n",
    "    \"\"\"\n",
    "    定義在時間t，看到state s執行action a之後得到的reward r與下一個state s'\n",
    "    state: 當前的state\n",
    "    action: 要執行的action\n",
    "    \n",
    "    return\n",
    "        next_state\n",
    "        reward\n",
    "    \"\"\"\n",
    "    # 首先根據規則定義踩到A、B兩點之後的狀態變化與得到的報酬\n",
    "    if state == A_LOC:\n",
    "        return A_JUMP_LOC, 10\n",
    "    elif state == B_LOC:\n",
    "        return B_JUMP_LOC, 5\n",
    "    \n",
    "    # 執行action之後給出next action\n",
    "    next_state = (np.array(state) + action).tolist()\n",
    "    \n",
    "    # 下面判斷是否有超出範圍\n",
    "    # 超出的話得到reward=-1，並且停在原地\n",
    "    x, y = next_state\n",
    "    if x < 0 or x >= GRID_SIZE or y < 0 or y >= GRID_SIZE:\n",
    "        reward = -1.0\n",
    "        next_state = state\n",
    "    else:\n",
    "        reward = 0\n",
    "    \n",
    "    return next_state, reward    "
   ]
  },
  {
   "cell_type": "markdown",
   "metadata": {},
   "source": [
    "定義一個繪圖函數：\n",
    "* np.ndenumerate，生成一個座標與值"
   ]
  },
  {
   "cell_type": "code",
   "execution_count": 11,
   "metadata": {},
   "outputs": [
    {
     "name": "stdout",
     "output_type": "stream",
     "text": [
      "(0, 0) 1\n",
      "(0, 1) 2\n",
      "(1, 0) 3\n",
      "(1, 1) 4\n"
     ]
    }
   ],
   "source": [
    "a = np.array([[1, 2], [3, 4]])\n",
    "for index, x in np.ndenumerate(a):\n",
    "    print(index, x)"
   ]
  },
  {
   "cell_type": "code",
   "execution_count": 93,
   "metadata": {},
   "outputs": [],
   "source": [
    "def draw_image(grid):\n",
    "    \"\"\"繪製表格\n",
    "    grid: GRID_SIZExGRIDSIZE的\n",
    "    \"\"\"\n",
    "    fig, ax = plt.subplots()\n",
    "    ax.set_axis_off() # 隱藏圖表的軸線\n",
    "    tb = Table(ax) # new一個Table object\n",
    "    \n",
    "    # 設置表格大小\n",
    "    nrows, ncols = grid.shape\n",
    "    width = 1.0 / ncols\n",
    "    height = 1.0 / nrows\n",
    "    \n",
    "    for (i, j), val in np.ndenumerate(grid):\n",
    "        # 如果是A、A'、B、B'這四個點，就特別加入標識\n",
    "        if [i, j] == A_LOC:\n",
    "            val = str(val) + \" (A)\"\n",
    "        elif [i, j] == A_JUMP_LOC:\n",
    "            val = str(val) + \" (A')\"\n",
    "        elif [i, j] == B_LOC:  \n",
    "            val = str(val) + \" (B)\"\n",
    "        elif [i, j] == B_JUMP_LOC:    \n",
    "            val = str(val) + \" (B')\"\n",
    "        \n",
    "        # 加入cell\n",
    "        tb.add_cell(i, j, width, height, \n",
    "                    text=val, loc='center', facecolor='white')\n",
    "        \n",
    "    # 幫row、column加入label\n",
    "    for i in range(len(image)):\n",
    "        tb.add_cell(i, -1, width, height, \n",
    "                    text=i+1, loc='right', edgecolor='none', facecolor='none')\n",
    "        tb.add_cell(-1, i, width, height/2,\n",
    "                    text=i+1, loc='center', edgecolor='none', facecolor='none')\n",
    "        \n",
    "    ax.add_table(tb)"
   ]
  },
  {
   "cell_type": "markdown",
   "metadata": {},
   "source": [
    "測試一下上面的函數"
   ]
  },
  {
   "cell_type": "code",
   "execution_count": 81,
   "metadata": {},
   "outputs": [
    {
     "data": {
      "text/plain": [
       "array([[1., 1., 1., 1., 1.],\n",
       "       [1., 1., 1., 1., 1.],\n",
       "       [1., 1., 1., 1., 1.],\n",
       "       [1., 1., 1., 1., 1.],\n",
       "       [1., 1., 1., 1., 1.]])"
      ]
     },
     "execution_count": 81,
     "metadata": {},
     "output_type": "execute_result"
    }
   ],
   "source": [
    "image = np.ones((5, 5))\n",
    "image"
   ]
  },
  {
   "cell_type": "code",
   "execution_count": 85,
   "metadata": {},
   "outputs": [
    {
     "data": {
      "image/png": "[encoded data removed]",
      "text/plain": [
       "<Figure size 432x288 with 1 Axes>"
      ]
     },
     "metadata": {
      "needs_background": "light"
     },
     "output_type": "display_data"
    }
   ],
   "source": [
    "draw_image(image)\n",
    "plt.show()\n",
    "plt.close()"
   ]
  },
  {
   "cell_type": "markdown",
   "metadata": {},
   "source": [
    "基本條件都好了，我們開始來處理範例3.5"
   ]
  },
  {
   "cell_type": "code",
   "execution_count": 94,
   "metadata": {},
   "outputs": [],
   "source": [
    "def example_3_5():\n",
    "    # 初始化一個0矩陣\n",
    "    grids = np.zeros((GRID_SIZE, GRID_SIZE))\n",
    "    while True:        \n",
    "        # 迭代計算        \n",
    "        new_grids = np.zeros_like(grids) # 複製一個格式一樣的zero matrix\n",
    "        # 從0, 0開始計算每一個action的return，並計錄最大值\n",
    "        for i in range(GRID_SIZE):\n",
    "            for j in range(GRID_SIZE):\n",
    "                # 記錄某一個cell的四個action會得到的return\n",
    "                values = []\n",
    "                for action in ACTIONS:\n",
    "                    # 計算四個方向的reward\n",
    "                    (next_i, next_j), reward = step([i, j], action)\n",
    "                    # 計算r(s, a, s')的return\n",
    "                    values.append(reward + GAMMA * grids[next_i, next_j])\n",
    "                # greedy，最大的那個就是最佳的return\n",
    "                new_grids[i, j] = np.max(values)\n",
    "                \n",
    "#         print(np.sum(np.abs(new_grids - grids)))\n",
    "        # 當收斂小到一個結果之後就直接停止\n",
    "        # 如果有興趣也可以在這邊print grids觀察變化\n",
    "        if np.sum(np.abs(new_grids - grids)) < 1e-4:\n",
    "#             print(np.round(new_grids, decimals=2))\n",
    "            draw_image(np.round(new_grids, decimals=2))\n",
    "            plt.show()\n",
    "            plt.close()            \n",
    "            break\n",
    "        grids = new_grids\n",
    "#     print(new_grids)\n",
    "#     print(grids)"
   ]
  },
  {
   "cell_type": "code",
   "execution_count": 95,
   "metadata": {},
   "outputs": [
    {
     "name": "stdout",
     "output_type": "stream",
     "text": [
      "[[21.98 24.42 21.98 19.42 17.48]\n",
      " [19.78 21.98 19.78 17.8  16.02]\n",
      " [17.8  19.78 17.8  16.02 14.42]\n",
      " [16.02 17.8  16.02 14.42 12.98]\n",
      " [14.42 16.02 14.42 12.98 11.68]]\n"
     ]
    },
    {
     "data": {
      "image/png": "[encoded data removed]",
      "text/plain": [
       "<Figure size 432x288 with 1 Axes>"
      ]
     },
     "metadata": {
      "needs_background": "light"
     },
     "output_type": "display_data"
    }
   ],
   "source": [
    "example_3_5()"
   ]
  },
  {
   "cell_type": "markdown",
   "metadata": {},
   "source": [
    "另外我們希望可以跟書上一樣可以有一個policy的圖表，下面可以設置一個函數來處理"
   ]
  },
  {
   "cell_type": "code",
   "execution_count": 128,
   "metadata": {},
   "outputs": [],
   "source": [
    "def draw_policy(optimal_values):\n",
    "    \"\"\"\n",
    "    繪製policy\n",
    "    \"\"\"\n",
    "    fig, ax = plt.subplots()\n",
    "    ax.set_axis_off() # 隱藏圖表的軸線\n",
    "    tb = Table(ax) # new一個Table object\n",
    "    \n",
    "    # 設置表格大小\n",
    "    nrows, ncols = optimal_values.shape\n",
    "    width = 1.0 / ncols\n",
    "    height = 1.0 / nrows\n",
    "        \n",
    "    # 函數說明可參考上方\n",
    "    for (i, j), val in np.ndenumerate(optimal_values):\n",
    "        #print('index: ', [i, j])\n",
    "        next_vals = []\n",
    "        for action in ACTIONS:\n",
    "            # 只需要下一個state，不需要記錄reward\n",
    "            next_state, _ = step([i, j], action)  \n",
    "            #print(f'next_state: {next_state}')\n",
    "            next_vals.append(optimal_values[next_state[0], next_state[1]])\n",
    "        \n",
    "        # 找出最佳的action\n",
    "        # next_vals == np.max(next_vals)的結果是一個mask，[False, False, False, True]\n",
    "        # np.where之後取到的就會是True那個index，上面範例就是3\n",
    "        \n",
    "        #print(next_vals)\n",
    "        best_actions = np.where(next_vals == np.max(next_vals))[0]\n",
    "        #print(best_actions)\n",
    "        # print(best_actions)\n",
    "        # 最佳的action可能會有多個，因為多個方向得到一樣的optimal value是有可能的\n",
    "        # 利用迴圈將所有可能的action的flag串起來\n",
    "        _action = ''\n",
    "        for action_idx in best_actions:\n",
    "            _action += ACTION_FLAGS[action_idx]\n",
    "        \n",
    "        # 建立表格\n",
    "        # 首先一樣，如果是A、A'、B、B'這四個點，就特別加入標識\n",
    "        if [i, j] == A_LOC:\n",
    "            _action = str(_action) + \" (A)\"\n",
    "        elif [i, j] == A_JUMP_LOC:\n",
    "            _action = str(_action) + \" (A')\"\n",
    "        elif [i, j] == B_LOC:  \n",
    "            _action = str(_action) + \" (B)\"\n",
    "        elif [i, j] == B_JUMP_LOC:    \n",
    "            _action = str(_action) + \" (B')\"\n",
    "        \n",
    "        tb.add_cell(i, j, width, height, text=_action, loc='center', facecolor='white')\n",
    "        \n",
    "    # 幫row、column加入label\n",
    "    for i in range(len(image)):\n",
    "        tb.add_cell(i, -1, width, height, \n",
    "                    text=i+1, loc='right', edgecolor='none', facecolor='none')\n",
    "        tb.add_cell(-1, i, width, height/2,\n",
    "                    text=i+1, loc='center', edgecolor='none', facecolor='none')\n",
    "    ax.add_table(tb)"
   ]
  },
  {
   "cell_type": "markdown",
   "metadata": {},
   "source": [
    "修正一下剛才的函數`example_3_5`，加入顯示這個表格"
   ]
  },
  {
   "cell_type": "code",
   "execution_count": 129,
   "metadata": {},
   "outputs": [],
   "source": [
    "def example_3_5():\n",
    "    # 初始化一個0矩陣\n",
    "    grids = np.zeros((GRID_SIZE, GRID_SIZE))\n",
    "    while True:        \n",
    "        # 迭代計算        \n",
    "        new_grids = np.zeros_like(grids) # 複製一個格式一樣的zero matrix\n",
    "        # 從0, 0開始計算每一個action的return，並計錄最大值\n",
    "        for i in range(GRID_SIZE):\n",
    "            for j in range(GRID_SIZE):\n",
    "                # 記錄某一個cell的四個action會得到的return\n",
    "                values = []\n",
    "                for action in ACTIONS:\n",
    "                    # 計算四個方向的reward\n",
    "                    (next_i, next_j), reward = step([i, j], action)\n",
    "                    # 計算r(s, a, s')的return\n",
    "                    values.append(reward + GAMMA * grids[next_i, next_j])\n",
    "                # greedy，最大的那個就是最佳的return\n",
    "                new_grids[i, j] = np.max(values)\n",
    "                \n",
    "#         print(np.sum(np.abs(new_grids - grids)))\n",
    "        # 當收斂小到一個結果之後就直接停止\n",
    "        # 如果有興趣也可以在這邊print grids觀察變化\n",
    "        if np.sum(np.abs(new_grids - grids)) < 1e-4:\n",
    "#             print(np.round(new_grids, decimals=2))\n",
    "            draw_image(np.round(new_grids, decimals=2))\n",
    "            plt.show()\n",
    "            plt.close()     \n",
    "            draw_policy(new_grids)\n",
    "            plt.show()\n",
    "            plt.close()                 \n",
    "            break\n",
    "        grids = new_grids"
   ]
  },
  {
   "cell_type": "code",
   "execution_count": 130,
   "metadata": {},
   "outputs": [
    {
     "data": {
      "image/png": "[encoded data removed]",
      "text/plain": [
       "<Figure size 432x288 with 1 Axes>"
      ]
     },
     "metadata": {
      "needs_background": "light"
     },
     "output_type": "display_data"
    },
    {
     "data": {
      "image/png": "[encoded data removed]",
      "text/plain": [
       "<Figure size 432x288 with 1 Axes>"
      ]
     },
     "metadata": {
      "needs_background": "light"
     },
     "output_type": "display_data"
    }
   ],
   "source": [
    "example_3_5()"
   ]
  },
  {
   "cell_type": "markdown",
   "metadata": {},
   "source": [
    "更多可參考原作者GitHub，在下只是將原作者的程式理解之後加入註解說明"
   ]
  }
 ],
 "metadata": {
  "kernelspec": {
   "display_name": "Python 3",
   "language": "python",
   "name": "python3"
  },
  "language_info": {
   "codemirror_mode": {
    "name": "ipython",
    "version": 3
   },
   "file_extension": ".py",
   "mimetype": "text/x-python",
   "name": "python",
   "nbconvert_exporter": "python",
   "pygments_lexer": "ipython3",
   "version": "3.8.5"
  }
 },
 "nbformat": 4,
 "nbformat_minor": 4
}
