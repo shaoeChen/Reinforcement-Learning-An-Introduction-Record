{
 "cells": [
  {
   "cell_type": "code",
   "execution_count": 1,
   "metadata": {},
   "outputs": [],
   "source": [
    "#######################################################################\n",
    "# Copyright (C)                                                       #\n",
    "# 2016-2018 Shangtong Zhang(zhangshangtong.cpp@gmail.com)             #\n",
    "# 2016 Kenta Shimada(hyperkentakun@gmail.com)                         #\n",
    "# Permission given to modify the code as long as you keep this        #\n",
    "# declaration at the top                                              #\n",
    "#######################################################################\n"
   ]
  },
  {
   "cell_type": "markdown",
   "metadata": {},
   "source": [
    "這次的範例主要參考[ShangtongZhang](https://github.com/ShangtongZhang/reinforcement-learning-an-introduction/blob/master/chapter08/maze.py)"
   ]
  },
  {
   "cell_type": "markdown",
   "metadata": {},
   "source": [
    "Chapter 8主要結合planning與learning，讓過往的經驗可以再次得到一次利用"
   ]
  },
  {
   "cell_type": "markdown",
   "metadata": {},
   "source": [
    "Example 8.4: Prioritized Sweeping on Mazes\n",
    "\n",
    "Prioritized sweeping可以明顯地提高在迷宮任務中找尋最佳路徑的速度，通常是5到10倍。一個常見的範例如下圖：\n",
    "![](https://i.imgur.com/zP3Fo7y.png)\n",
    "\n",
    "\n",
    "這些資料跟Figure 8.2看到的是完全相同的結構，就只有[網格的解析度](http://terms.naer.edu.tw/detail/389282/)不同。Prioritized sweeping比起非優先序的Dyna-Q有著明顯優勢。兩個系統在每次與環境互動中，最多就是做了$n=5$的更新。故事範例改編自Peng and Williams (1993)。"
   ]
  },
  {
   "cell_type": "markdown",
   "metadata": {},
   "source": [
    "Example 8.4採用與Example 8.1一樣的迷宮來與Dyna-Q做比較，特別的是，它做了縮放，所以我們要在Maze中加入新的縮放功能。"
   ]
  },
  {
   "cell_type": "markdown",
   "metadata": {},
   "source": [
    "下面給出原始迷宮，比較有感覺：  "
   ]
  },
  {
   "cell_type": "markdown",
   "metadata": {},
   "source": [
    "  \n",
    "![](https://i.imgur.com/pwVihdo.png)"
   ]
  },
  {
   "cell_type": "markdown",
   "metadata": {},
   "source": [
    "首先載入需求套件"
   ]
  },
  {
   "cell_type": "code",
   "execution_count": 2,
   "metadata": {},
   "outputs": [],
   "source": [
    "import numpy as np\n",
    "import matplotlib.pyplot as plt\n",
    "from tqdm import tqdm\n",
    "import heapq\n",
    "from copy import deepcopy"
   ]
  },
  {
   "cell_type": "markdown",
   "metadata": {},
   "source": [
    "首先設置Environment"
   ]
  },
  {
   "cell_type": "code",
   "execution_count": 3,
   "metadata": {},
   "outputs": [],
   "source": [
    "class Maze:\n",
    "    def __init__(self):\n",
    "        \"\"\"初始化環境\n",
    "        \n",
    "        根據範例說明：\n",
    "        1. 這是一個寬9高6的gridworld\n",
    "        2. 每個episode的start state都是[2, 0]\n",
    "        3. goal state為[8, 0]\n",
    "        4. 我們能做的action就是上下左右\n",
    "        5. 路面上是有障礙\n",
    "        \"\"\"\n",
    "        self.WORLD_WIDTH = 9\n",
    "        self.WORLD_HEIGHT = 6\n",
    "        \n",
    "        self.START_STATE = [2, 0]\n",
    "        self.GOAL_STATE = [[0, 8]]\n",
    "        \n",
    "        self.ACTION_UP = 0\n",
    "        self.ACTION_DOWN = 1\n",
    "        self.ACTION_LEFT = 2\n",
    "        self.ACTION_RIGHT = 3\n",
    "        self.action_space = [self.ACTION_UP, self.ACTION_DOWN, self.ACTION_LEFT, self.ACTION_RIGHT]\n",
    "        # 障礙設置\n",
    "        self.obstacles = [[1, 2], [2, 2], [3, 2], \n",
    "                          [4, 5], \n",
    "                          [0, 7], [1, 7], [2, 7]]\n",
    "        \n",
    "        self.value_size = (self.WORLD_HEIGHT, self.WORLD_WIDTH, len(self.action_space))\n",
    "        \n",
    "        self.max_steps = float('inf')\n",
    "        \n",
    "        self.resolution = 1\n",
    "    def step(self, state, action):\n",
    "        \"\"\"run step according action\n",
    "        \n",
    "        state: 當前的狀態\n",
    "        action: 要執行的action\n",
    "        \n",
    "        幾點要注意：\n",
    "            1. 不能超出邊界，這可以用max、min來處理\n",
    "            2. 撞到障礙就是停在原地\n",
    "            3. 每次的reward都是0，除非你到達goal state\n",
    "            \n",
    "        return next_state, reward\n",
    "        \"\"\"\n",
    "        x, y = state\n",
    "        \n",
    "        if action == self.ACTION_UP:\n",
    "            x = max(x - 1, 0)\n",
    "        elif  action == self.ACTION_DOWN:\n",
    "            x = min(x + 1, self.WORLD_HEIGHT - 1)\n",
    "        elif  action == self.ACTION_LEFT:\n",
    "            y = max(y - 1, 0)\n",
    "        elif  action == self.ACTION_RIGHT:\n",
    "            y = min(y + 1, self.WORLD_WIDTH - 1)\n",
    "        \n",
    "        if [x, y] in self.obstacles:\n",
    "            x, y = state\n",
    "        \n",
    "        if [x, y] in self.GOAL_STATE:\n",
    "            reward = 1.0\n",
    "        else:\n",
    "            reward = 0.0\n",
    "        \n",
    "        return [x, y], reward\n",
    "    \n",
    "    def extend_state(self, state, factor):\n",
    "        \"\"\"迷宮怎麼放大，相關狀態就怎麼跟著放大\"\"\"\n",
    "        new_state = [state[0] * factor, state[1] * factor]\n",
    "        new_states = []\n",
    "        \n",
    "        for i in range(0, factor):\n",
    "            for j in range(0, factor):\n",
    "                new_states.append([new_state[0] + i, new_state[1] + j])\n",
    "        return new_states\n",
    "        \n",
    "    def extend_maze(self, factor):\n",
    "        \"\"\"放大迷宮\n",
    "        \n",
    "        factor: 放大倍率\n",
    "        \n",
    "        放大之後連面積都跟著變大，除了起始狀態之外。\n",
    "        \"\"\"\n",
    "        new_maze = Maze()\n",
    "        new_maze.WORLD_WIDTH = self.WORLD_WIDTH * factor\n",
    "        new_maze.WORLD_HEIGHT = self.WORLD_HEIGHT * factor\n",
    "        new_maze.START_STATE = [self.START_STATE[0] * factor, self.START_STATE[1] * factor]\n",
    "        new_maze.GOAL_STATE = self.extend_state(self.GOAL_STATE[0], factor)\n",
    "        \n",
    "        new_maze.obstacles = []\n",
    "        for state in self.obstacles:\n",
    "            new_maze.obstacles.extend(self.extend_state(state, factor))\n",
    "        \n",
    "        new_maze.value_size = (new_maze.WORLD_HEIGHT, new_maze.WORLD_WIDTH, len(new_maze.action_space))\n",
    "        \n",
    "        # 這後續有用，要記錄著\n",
    "        new_maze.resolution  = factor\n",
    "        \n",
    "        return new_maze"
   ]
  },
  {
   "cell_type": "code",
   "execution_count": 4,
   "metadata": {},
   "outputs": [],
   "source": [
    "maze = Maze()\n",
    "assert maze.START_STATE == [2, 0]\n",
    "assert maze.GOAL_STATE[0] == [0, 8]\n",
    "assert (maze.step([2, 0], 0)) == ([1, 0], 0)"
   ]
  },
  {
   "cell_type": "markdown",
   "metadata": {},
   "source": [
    "測試放大迷宮"
   ]
  },
  {
   "cell_type": "code",
   "execution_count": 5,
   "metadata": {},
   "outputs": [
    {
     "name": "stdout",
     "output_type": "stream",
     "text": [
      "start state:  [4, 0]\n",
      "goal state:  [[0, 16], [0, 17], [1, 16], [1, 17]]\n",
      "obstacles:  [[2, 4], [2, 5], [3, 4], [3, 5], [4, 4], [4, 5], [5, 4], [5, 5], [6, 4], [6, 5], [7, 4], [7, 5], [8, 10], [8, 11], [9, 10], [9, 11], [0, 14], [0, 15], [1, 14], [1, 15], [2, 14], [2, 15], [3, 14], [3, 15], [4, 14], [4, 15], [5, 14], [5, 15]]\n"
     ]
    }
   ],
   "source": [
    "new_maze = maze.extend_maze(2)\n",
    "print('start state: ', new_maze.START_STATE)\n",
    "print('goal state: ', new_maze.GOAL_STATE)\n",
    "print('obstacles: ', new_maze.obstacles)"
   ]
  },
  {
   "cell_type": "markdown",
   "metadata": {},
   "source": [
    "然後我們會需要一個model來記錄曾經有過的經驗"
   ]
  },
  {
   "cell_type": "code",
   "execution_count": 6,
   "metadata": {},
   "outputs": [],
   "source": [
    "class TrivialModel:\n",
    "    def __init__(self, rand=np.random):\n",
    "        # 用dict來做模型，反正我們只會記錄該state-action pair最後一次的經驗\n",
    "        self.model = dict()\n",
    "        self.rand = rand\n",
    "#         self.rand.seed(10)\n",
    "    \n",
    "    def feed(self, state, action, next_state, reward):\n",
    "        \"\"\"記錄經驗\"\"\"\n",
    "        state = deepcopy(state)\n",
    "        next_state = deepcopy(next_state)\n",
    "        \n",
    "        # 判斷該組state是否存在目前的model\n",
    "        # 如不存在就賦予一個預設值\n",
    "        if tuple(state) not in self.model.keys():\n",
    "            self.model[tuple(state)] = dict()\n",
    "        self.model[tuple(state)][action] = [list(next_state), reward]\n",
    "        \n",
    "    def sample(self):\n",
    "        \"\"\"隨機取一筆經驗出來再做更新\"\"\"\n",
    "        state_index = self.rand.choice(range(len(self.model.keys())))\n",
    "        state = list(self.model)[state_index]\n",
    "        action_index = self.rand.choice(range(len(self.model[state].keys())))\n",
    "        action = list(self.model[state])[action_index]\n",
    "        next_state, reward = self.model[state][action]\n",
    "        state = deepcopy(state)\n",
    "        next_state = deepcopy(next_state)\n",
    "        return list(state), action, list(next_state), reward"
   ]
  },
  {
   "cell_type": "markdown",
   "metadata": {},
   "source": [
    "另外再一個prioritiy model，在設置model之前我們要先定義一個priority queue"
   ]
  },
  {
   "cell_type": "markdown",
   "metadata": {},
   "source": [
    "queue的部份，作者是採用python標準庫中的heapq，heap本身是個結構，在sorting上非常實用，可[參考在下記錄](https://martychen920.blogspot.com/2020/10/algorithmsortheap-srot.html)，heapq的話可以參考[官方文件說明](https://docs.python.org/zh-tw/3/library/heapq.html)，根據官方文件說明，heapq本身即為優先佇列 (priority queue)，正好符合我們的需求"
   ]
  },
  {
   "cell_type": "code",
   "execution_count": 7,
   "metadata": {},
   "outputs": [],
   "source": [
    "import heapq"
   ]
  },
  {
   "cell_type": "code",
   "execution_count": 8,
   "metadata": {},
   "outputs": [],
   "source": [
    "class PriorityQueue:\n",
    "    def __init__(self):\n",
    "        self.pq = [] # for heapq\n",
    "        self.entry_finder = {}\n",
    "        self.REMOVED = '<removed-task>'\n",
    "        self.counter = 0\n",
    "    \n",
    "    def add_item(self, item, priority=0):\n",
    "        \"\"\"新增item\n",
    "        \n",
    "        如果存在記錄就先移除，然後再重新寫入一筆新的\n",
    "        最後記得利用heapq做個sorting\n",
    "        \"\"\"\n",
    "        if item in self.entry_finder:            \n",
    "            self.remove_item(item)\n",
    "            \n",
    "        \n",
    "        entry = [priority, self.counter, item]\n",
    "        self.counter += 1\n",
    "        self.entry_finder[item] = entry        \n",
    "        heapq.heappush(self.pq, entry)\n",
    "        \n",
    "    def remove_item(self, item):\n",
    "        \"\"\"item移除之後\"\"\"        \n",
    "        entry = self.entry_finder.pop(item)\n",
    "        entry[-1] = self.REMOVED        \n",
    "    \n",
    "    def pop_item(self):\n",
    "        while self.pq:\n",
    "            priority, count, item = heapq.heappop(self.pq)\n",
    "            if item is not self.REMOVED:\n",
    "                del self.entry_finder[item]\n",
    "                return item, priority\n",
    "        \n",
    "        raise KeyError('pop from an empty priority queue')\n",
    "    \n",
    "    def empty(self):\n",
    "        return not self.entry_finder"
   ]
  },
  {
   "cell_type": "code",
   "execution_count": 9,
   "metadata": {},
   "outputs": [],
   "source": [
    "abc = {}\n",
    "abc = {'ccc': 123, 'ddd':234}"
   ]
  },
  {
   "cell_type": "code",
   "execution_count": 10,
   "metadata": {},
   "outputs": [
    {
     "data": {
      "text/plain": [
       "123"
      ]
     },
     "execution_count": 10,
     "metadata": {},
     "output_type": "execute_result"
    }
   ],
   "source": [
    "ggg = abc.pop('ccc')\n",
    "ggg"
   ]
  },
  {
   "cell_type": "code",
   "execution_count": 11,
   "metadata": {},
   "outputs": [
    {
     "data": {
      "text/plain": [
       "{'ddd': 234}"
      ]
     },
     "execution_count": 11,
     "metadata": {},
     "output_type": "execute_result"
    }
   ],
   "source": [
    "abc"
   ]
  },
  {
   "cell_type": "markdown",
   "metadata": {},
   "source": [
    "下面測試可以看的出來，最小的是最後寫入的，但仍然會在最上面"
   ]
  },
  {
   "cell_type": "code",
   "execution_count": 12,
   "metadata": {},
   "outputs": [
    {
     "data": {
      "text/plain": [
       "[[0, 2, 'test3'], [9, 0, 'test1'], [5, 1, 'test2']]"
      ]
     },
     "execution_count": 12,
     "metadata": {},
     "output_type": "execute_result"
    }
   ],
   "source": [
    "pq = PriorityQueue()\n",
    "pq.add_item('test1', 9)\n",
    "pq.add_item('test2', 5)\n",
    "pq.add_item('test3', 0)\n",
    "pq.pq"
   ]
  },
  {
   "cell_type": "markdown",
   "metadata": {},
   "source": [
    "測試一下pop，確認一下是不是會pop出最小的那一個"
   ]
  },
  {
   "cell_type": "code",
   "execution_count": 13,
   "metadata": {},
   "outputs": [],
   "source": [
    "assert pq.pop_item() == ('test3', 0)"
   ]
  },
  {
   "cell_type": "code",
   "execution_count": 14,
   "metadata": {},
   "outputs": [
    {
     "data": {
      "text/plain": [
       "[[5, 1, 'test2'], [9, 0, 'test1']]"
      ]
     },
     "execution_count": 14,
     "metadata": {},
     "output_type": "execute_result"
    }
   ],
   "source": [
    "pq.pq"
   ]
  },
  {
   "cell_type": "code",
   "execution_count": 15,
   "metadata": {},
   "outputs": [
    {
     "data": {
      "text/plain": [
       "{'test1': [9, 0, 'test1'], 'test2': [5, 1, 'test2']}"
      ]
     },
     "execution_count": 15,
     "metadata": {},
     "output_type": "execute_result"
    }
   ],
   "source": [
    "pq.entry_finder"
   ]
  },
  {
   "cell_type": "code",
   "execution_count": 16,
   "metadata": {},
   "outputs": [
    {
     "data": {
      "text/plain": [
       "{'test2': [5, 1, 'test2']}"
      ]
     },
     "execution_count": 16,
     "metadata": {},
     "output_type": "execute_result"
    }
   ],
   "source": [
    "pq.remove_item('test1')\n",
    "pq.entry_finder"
   ]
  },
  {
   "cell_type": "code",
   "execution_count": 17,
   "metadata": {},
   "outputs": [],
   "source": [
    "class PriorityModel:\n",
    "    def __init__(self, rand=np.random):        \n",
    "        self.model = dict()\n",
    "        self.rand = rand\n",
    "        self.priority_queue = PriorityQueue()\n",
    "        self.predecessors = dict()\n",
    "    \n",
    "    def insert(self, priority, state, action):\n",
    "        \"\"\"將state-action pair寫入優先序佇列\n",
    "        \n",
    "        要注意的是，優先度我們是取負值，因為heapq是minimum heap，所以取負讓大的變小\n",
    "        \"\"\"\n",
    "        self.priority_queue.add_item((tuple(state), action), -priority)\n",
    "    \n",
    "    def empty(self):\n",
    "        \"\"\"回傳目前的佇列是否為空\"\"\"\n",
    "        return self.priority_queue.empty()\n",
    "    \n",
    "    def sample(self):\n",
    "        \"\"\"取得priority queue的root item\n",
    "        \n",
    "        要記得，寫入的時候優先度是取負，所以取回的時候也要記得取負\n",
    "        \"\"\"\n",
    "        (state, action), priority = self.priority_queue.pop_item()\n",
    "        next_state, reward = self.model[state][action]\n",
    "        state = deepcopy(state)\n",
    "        next_state = deepcopy(next_state)\n",
    "        return -priority, list(state), action, list(next_state), reward\n",
    "    \n",
    "    def feed(self, state, action, next_state, reward):\n",
    "        \"\"\"經驗寫入model\"\"\"\n",
    "        state = deepcopy(state)\n",
    "        next_state = deepcopy(next_state)\n",
    "        \n",
    "        # 這邊寫入的是state action pair的next state\n",
    "        if tuple(state) not in self.model.keys():\n",
    "            self.model[tuple(state)] = dict()\n",
    "            \n",
    "        self.model[tuple(state)][action] = [list(next_state), reward]\n",
    "        \n",
    "        # 這邊寫入的是進入next state之前的state action pair\n",
    "        if tuple(next_state) not in self.predecessors.keys():\n",
    "            self.predecessors[tuple(next_state)] = set()\n",
    "            \n",
    "        self.predecessors[tuple(next_state)].add((tuple(state), action))\n",
    "    \n",
    "    def predecessor(self, state):\n",
    "        \"\"\"取得進入目標state之前的state action pairs與reward\"\"\"\n",
    "        if tuple(state) not in self.predecessors.keys():\n",
    "            return []\n",
    "        \n",
    "        predecessors  = []\n",
    "        for state_pre, action_pre in list(self.predecessors[tuple(state)]):\n",
    "            predecessors.append([list(state_pre), action_pre, self.model[state_pre][action_pre][1]])\n",
    "        \n",
    "        return predecessors"
   ]
  },
  {
   "cell_type": "markdown",
   "metadata": {},
   "source": [
    "然後我們來設置一下Dyna-Q所需要的參數：\n",
    "* gamma: discount factor\n",
    "* epsilon: 探索的機率\n",
    "* planning_steps: planning steps\n",
    "* average_runs: 幾次的run計算平均"
   ]
  },
  {
   "cell_type": "code",
   "execution_count": 18,
   "metadata": {},
   "outputs": [],
   "source": [
    "dyna_q_params = {\n",
    "    'gamma': 0.95,\n",
    "    'epsilon': 0.1,\n",
    "    'planning_steps': 5,\n",
    "    'average_runs': 10,     \n",
    "    'alpha': 0.5\n",
    "}"
   ]
  },
  {
   "cell_type": "code",
   "execution_count": 19,
   "metadata": {},
   "outputs": [],
   "source": [
    "priority_params = {\n",
    "    'gamma': 0.95,\n",
    "    'epsilon': 0.1,\n",
    "    'planning_steps': 5,\n",
    "    'average_runs': 10,     \n",
    "    'alpha': 0.5,\n",
    "    'theta': 0.0001\n",
    "}"
   ]
  },
  {
   "cell_type": "markdown",
   "metadata": {},
   "source": [
    "設置一個已經很熟悉的，用來選擇action的function"
   ]
  },
  {
   "cell_type": "code",
   "execution_count": 20,
   "metadata": {},
   "outputs": [],
   "source": [
    "def action_selection(state, value_function, maze, dyna_params):\n",
    "    \"\"\"選擇action的function\n",
    "    \n",
    "    後來自己被很多q_value參數搞混，所以就試著分開來命名\n",
    "    \n",
    "    state: current state\n",
    "    value_function: action value function, that is q_value\n",
    "    maze: object for Maze\n",
    "    dyna_params: algorithm's parameters\n",
    "    \"\"\"\n",
    "    if np.random.binomial(1, dyna_q_params['epsilon']) == 1:\n",
    "        return np.random.choice(maze.action_space)\n",
    "    else:\n",
    "        # 取得該state的所有可能的action\n",
    "        values = value_function[state[0], state[1], :]\n",
    "        return np.random.choice([action for action, value in enumerate(values) if value == np.max(values)])\n",
    "    "
   ]
  },
  {
   "cell_type": "markdown",
   "metadata": {},
   "source": [
    "接著來設置Dyna-Q algorithm，下面給出完整演算法的pseudocode"
   ]
  },
  {
   "cell_type": "markdown",
   "metadata": {},
   "source": [
    "![](https://i.imgur.com/jo168Rh.png)"
   ]
  },
  {
   "cell_type": "code",
   "execution_count": 21,
   "metadata": {},
   "outputs": [],
   "source": [
    "def dyna_q_algorithm(q_value, model, maze, params):\n",
    "    \"\"\"dyna_q algorithm\n",
    "    \n",
    "    q_value: action-value function\n",
    "    model: for planning\n",
    "    maze: environment\n",
    "    params: for dyna_q's parameters\n",
    "    \n",
    "    見上演算法說明\n",
    "    \"\"\"\n",
    "    # (a) current state\n",
    "    state = maze.START_STATE\n",
    "    steps = 0\n",
    "    \n",
    "    # 一直到agent走到目標之前就是一路迴圈執行\n",
    "    while state not in  maze.GOAL_STATE:        \n",
    "        # 記錄當下的steps\n",
    "        steps += 1\n",
    "        \n",
    "        # (b) 取得action\n",
    "        action = action_selection(state, q_value, maze, params)\n",
    "        \n",
    "        # (c) 執行action，得到next state與reward\n",
    "        next_state, reward = maze.step(state, action)\n",
    "        \n",
    "        # (d) 做一次Q-learning的更新\n",
    "        q_value[state[0], state[1], action] += \\\n",
    "            params['alpha'] * (reward + params['gamma'] * np.max(q_value[next_state[0], next_state[1], :]) \\\n",
    "                - q_value[state[0], state[1], action])\n",
    "        \n",
    "        # (e) 資料寫入模型\n",
    "        model.feed(state, action, next_state, reward)\n",
    "        \n",
    "        # (f) 迴圈執行planning_steps次\n",
    "        for t in range(0, params['planning_steps']):            \n",
    "            # 隨機的從模型中取一筆資料\n",
    "            # 從經驗中學習，其實就是用sample到的資料再做一次更新\n",
    "            _state, _action, _next_state, _reward = model.sample()\n",
    "            q_value[_state[0], _state[1], _action] += \\\n",
    "            params['alpha'] * (_reward + params['gamma'] * np.max(q_value[_next_state[0], _next_state[1], :]) \\\n",
    "                - q_value[_state[0], _state[1], _action])\n",
    "            \n",
    "        state = next_state\n",
    "        \n",
    "        if steps > maze.max_steps:\n",
    "            break\n",
    "    \n",
    "    return steps"
   ]
  },
  {
   "cell_type": "markdown",
   "metadata": {},
   "source": [
    "下面給出Prioritized sweeping algorithm的pseudocode做為參考"
   ]
  },
  {
   "cell_type": "markdown",
   "metadata": {},
   "source": [
    "![](https://i.imgur.com/iOzor0Y.png)"
   ]
  },
  {
   "cell_type": "code",
   "execution_count": 22,
   "metadata": {},
   "outputs": [],
   "source": [
    "def prioritized_sweeping(q_value, model, maze, dyna_params):\n",
    "    # (a) current state\n",
    "    state = maze.START_STATE\n",
    "    \n",
    "    # 記錄執行的steps\n",
    "    steps = 0\n",
    "    \n",
    "    # 記錄planning中的backups\n",
    "    backups = 0\n",
    "    \n",
    "    while state not in maze.GOAL_STATE:\n",
    "        steps += 1\n",
    "        \n",
    "        # (b) get action\n",
    "        action = action_selection(state, q_value, maze, dyna_params)\n",
    "        \n",
    "        # (c) take action\n",
    "        next_state, reward = maze.step(state, action)\n",
    "        \n",
    "        # (d) 把得到的經驗寫入model\n",
    "        model.feed(state, action, next_state, reward)\n",
    "        \n",
    "        # (e) 計算這個state action pair的優先度\n",
    "        priority = np.abs(reward + dyna_params['gamma'] * np.max(q_value[next_state[0], next_state[1], :]) - \n",
    "                          q_value[state[0], state[1], action])\n",
    "        \n",
    "        # (f) 判斷優先度是否大於閥值，如果大過，那就寫入priority queue\n",
    "        if priority > dyna_params['theta']:\n",
    "            model.insert(priority, state, action)\n",
    "            \n",
    "        # (g) 執行planning\n",
    "        planning_step = 0\n",
    "        while planning_step < dyna_params['planning_steps'] and not model.empty():\n",
    "            # 先取得queue root的資料\n",
    "            # 這是pseudocode的前兩行\n",
    "            priority, _state, _action, _next_state, _reward = model.sample()\n",
    "            \n",
    "            # 更新一下取到的這個pair的value\n",
    "            # 這是pseudocode的第三行\n",
    "            delta = _reward + dyna_params['gamma'] * np.max(q_value[_next_state[0], _next_state[1], :]) - \\\n",
    "                    q_value[_state[0], _state[1], _action]\n",
    "            q_value[_state[0], _state[1], _action] += dyna_params['alpha'] * delta\n",
    "            \n",
    "            # 然後我們也要來更新一下會進來這個state之前的state-action pair\n",
    "            # 這是pseudocode的loop與下一行\n",
    "            for state_pre, action_pre, reward_pre in model.predecessor(_state):\n",
    "                # 這這是pseudocode的loop下的第二行\n",
    "                # 計算優先度，然後顏色有點淺，不過後面的S、A上面確實是有bar\n",
    "                priority = np.abs(reward_pre + dyna_params['gamma'] * np.max(q_value[_state[0], _state[1], :]) -\n",
    "                                  q_value[state_pre[0], state_pre[1], action_pre])\n",
    "                if priority > dyna_params['theta']:\n",
    "                    model.insert(priority, state_pre, action_pre)\n",
    "            \n",
    "            planning_step += 1\n",
    "        \n",
    "        state = next_state\n",
    "        \n",
    "        backups += planning_step + 1\n",
    "    \n",
    "    return backups"
   ]
  },
  {
   "cell_type": "markdown",
   "metadata": {},
   "source": [
    "演算法的部份也已經好了"
   ]
  },
  {
   "cell_type": "markdown",
   "metadata": {},
   "source": [
    "下面我們弄個函數，只是單純的確認是否已經到達最佳路徑"
   ]
  },
  {
   "cell_type": "code",
   "execution_count": 23,
   "metadata": {},
   "outputs": [],
   "source": [
    "def check_path(q_values, maze):\n",
    "    max_steps = 14 * maze.resolution * 1.2\n",
    "    state = maze.START_STATE\n",
    "    steps = 0\n",
    "    while state not in maze.GOAL_STATE:\n",
    "        action = np.argmax(q_values[state[0], state[1], :])\n",
    "        state, _ = maze.step(state, action)\n",
    "        steps += 1\n",
    "        if steps > max_steps:\n",
    "            return False\n",
    "    return True"
   ]
  },
  {
   "cell_type": "markdown",
   "metadata": {},
   "source": [
    "首先初始化迷宮"
   ]
  },
  {
   "cell_type": "code",
   "execution_count": 24,
   "metadata": {},
   "outputs": [],
   "source": [
    "original_maze = Maze()"
   ]
  },
  {
   "cell_type": "markdown",
   "metadata": {},
   "source": [
    "然後參數我們已經設置好了"
   ]
  },
  {
   "cell_type": "code",
   "execution_count": 25,
   "metadata": {},
   "outputs": [
    {
     "data": {
      "text/plain": [
       "[{'gamma': 0.95,\n",
       "  'epsilon': 0.1,\n",
       "  'planning_steps': 5,\n",
       "  'average_runs': 10,\n",
       "  'alpha': 0.5,\n",
       "  'theta': 0.0001},\n",
       " {'gamma': 0.95,\n",
       "  'epsilon': 0.1,\n",
       "  'planning_steps': 5,\n",
       "  'average_runs': 10,\n",
       "  'alpha': 0.5}]"
      ]
     },
     "execution_count": 25,
     "metadata": {},
     "output_type": "execute_result"
    }
   ],
   "source": [
    "params = [priority_params, dyna_q_params]\n",
    "params"
   ]
  },
  {
   "cell_type": "markdown",
   "metadata": {},
   "source": [
    "接下來是model"
   ]
  },
  {
   "cell_type": "code",
   "execution_count": 26,
   "metadata": {},
   "outputs": [],
   "source": [
    "models = [PriorityModel, TrivialModel]\n",
    "method_names = ['Prioritized Sweeping', 'Dyna-Q']"
   ]
  },
  {
   "cell_type": "markdown",
   "metadata": {},
   "source": [
    "迷宮要弄幾個，這個就要看各自電腦能夠處理到什麼程度了"
   ]
  },
  {
   "cell_type": "code",
   "execution_count": 27,
   "metadata": {},
   "outputs": [],
   "source": [
    "num_of_mazes = 5"
   ]
  },
  {
   "cell_type": "markdown",
   "metadata": {},
   "source": [
    "建立所有的迷宮"
   ]
  },
  {
   "cell_type": "code",
   "execution_count": 28,
   "metadata": {},
   "outputs": [],
   "source": [
    "mazes = [original_maze.extend_maze(i) for i in range(1, num_of_mazes + 1)]"
   ]
  },
  {
   "cell_type": "markdown",
   "metadata": {},
   "source": [
    "兩種演算法"
   ]
  },
  {
   "cell_type": "code",
   "execution_count": 29,
   "metadata": {},
   "outputs": [],
   "source": [
    "methods = [prioritized_sweeping, dyna_q_algorithm]"
   ]
  },
  {
   "cell_type": "markdown",
   "metadata": {},
   "source": [
    "然後要跑幾個runs，這也是看個人電腦能夠處理到什麼程度"
   ]
  },
  {
   "cell_type": "code",
   "execution_count": 30,
   "metadata": {},
   "outputs": [],
   "source": [
    "runs = 5"
   ]
  },
  {
   "cell_type": "markdown",
   "metadata": {},
   "source": [
    "記錄平均幾個step結束，維度為(runs, algorithm nums, 迷宮的數量)"
   ]
  },
  {
   "cell_type": "code",
   "execution_count": 31,
   "metadata": {},
   "outputs": [
    {
     "data": {
      "text/plain": [
       "(5, 2, 5)"
      ]
     },
     "execution_count": 31,
     "metadata": {},
     "output_type": "execute_result"
    }
   ],
   "source": [
    "backups = np.zeros((runs, 2, num_of_mazes))\n",
    "backups.shape"
   ]
  },
  {
   "cell_type": "code",
   "execution_count": 32,
   "metadata": {
    "scrolled": true
   },
   "outputs": [
    {
     "name": "stdout",
     "output_type": "stream",
     "text": [
      "run 0, Prioritized Sweeping, maze size 54\n",
      "run 0, Prioritized Sweeping, maze size 216\n",
      "run 0, Prioritized Sweeping, maze size 486\n",
      "run 0, Prioritized Sweeping, maze size 864\n",
      "run 0, Prioritized Sweeping, maze size 1350\n",
      "run 0, Dyna-Q, maze size 54\n",
      "run 0, Dyna-Q, maze size 216\n",
      "run 0, Dyna-Q, maze size 486\n",
      "run 0, Dyna-Q, maze size 864\n",
      "run 0, Dyna-Q, maze size 1350\n",
      "run 1, Prioritized Sweeping, maze size 54\n",
      "run 1, Prioritized Sweeping, maze size 216\n",
      "run 1, Prioritized Sweeping, maze size 486\n",
      "run 1, Prioritized Sweeping, maze size 864\n",
      "run 1, Prioritized Sweeping, maze size 1350\n",
      "run 1, Dyna-Q, maze size 54\n",
      "run 1, Dyna-Q, maze size 216\n",
      "run 1, Dyna-Q, maze size 486\n",
      "run 1, Dyna-Q, maze size 864\n",
      "run 1, Dyna-Q, maze size 1350\n",
      "run 2, Prioritized Sweeping, maze size 54\n",
      "run 2, Prioritized Sweeping, maze size 216\n",
      "run 2, Prioritized Sweeping, maze size 486\n",
      "run 2, Prioritized Sweeping, maze size 864\n",
      "run 2, Prioritized Sweeping, maze size 1350\n",
      "run 2, Dyna-Q, maze size 54\n",
      "run 2, Dyna-Q, maze size 216\n",
      "run 2, Dyna-Q, maze size 486\n",
      "run 2, Dyna-Q, maze size 864\n",
      "run 2, Dyna-Q, maze size 1350\n",
      "run 3, Prioritized Sweeping, maze size 54\n",
      "run 3, Prioritized Sweeping, maze size 216\n",
      "run 3, Prioritized Sweeping, maze size 486\n",
      "run 3, Prioritized Sweeping, maze size 864\n",
      "run 3, Prioritized Sweeping, maze size 1350\n",
      "run 3, Dyna-Q, maze size 54\n",
      "run 3, Dyna-Q, maze size 216\n",
      "run 3, Dyna-Q, maze size 486\n",
      "run 3, Dyna-Q, maze size 864\n",
      "run 3, Dyna-Q, maze size 1350\n",
      "run 4, Prioritized Sweeping, maze size 54\n",
      "run 4, Prioritized Sweeping, maze size 216\n",
      "run 4, Prioritized Sweeping, maze size 486\n",
      "run 4, Prioritized Sweeping, maze size 864\n",
      "run 4, Prioritized Sweeping, maze size 1350\n",
      "run 4, Dyna-Q, maze size 54\n",
      "run 4, Dyna-Q, maze size 216\n",
      "run 4, Dyna-Q, maze size 486\n",
      "run 4, Dyna-Q, maze size 864\n",
      "run 4, Dyna-Q, maze size 1350\n",
      "CPU times: user 6min 24s, sys: 775 ms, total: 6min 24s\n",
      "Wall time: 6min 24s\n"
     ]
    }
   ],
   "source": [
    "%%time\n",
    "# 跑5run\n",
    "for run in range(0, runs):\n",
    "    # 2個方法\n",
    "    for i in range(0, len(method_names)):\n",
    "        # 5個迷宮 \n",
    "        for mazeIndex, maze in enumerate(mazes):\n",
    "#             print(maze.GOAL_STATE)\n",
    "            # 列印出執行中的訊息\n",
    "            print('run %d, %s, maze size %d' % (run, method_names[i], maze.WORLD_HEIGHT * maze.WORLD_WIDTH))\n",
    "#             print(maze.value_size)\n",
    "            # 首先初始化action values\n",
    "            q_value = np.zeros(maze.value_size)\n",
    "            \n",
    "            steps = []\n",
    "            \n",
    "            # 實例化model \n",
    "            model = models[i]()\n",
    "            \n",
    "            while True:\n",
    "                steps.append(methods[i](q_value, model, maze, params[i]))\n",
    "                \n",
    "                if check_path(q_value, maze):\n",
    "                    break\n",
    "            \n",
    "            backups[run, i, mazeIndex] = np.sum(steps)"
   ]
  },
  {
   "cell_type": "markdown",
   "metadata": {},
   "source": [
    "計算平均"
   ]
  },
  {
   "cell_type": "code",
   "execution_count": 33,
   "metadata": {},
   "outputs": [
    {
     "data": {
      "text/plain": [
       "(2, 5)"
      ]
     },
     "execution_count": 33,
     "metadata": {},
     "output_type": "execute_result"
    }
   ],
   "source": [
    "backups = backups.mean(axis=0)\n",
    "backups.shape"
   ]
  },
  {
   "cell_type": "code",
   "execution_count": 34,
   "metadata": {},
   "outputs": [
    {
     "data": {
      "text/plain": [
       "array([ 1338.2,  4302.2, 13584.8, 26796.6, 35896.4])"
      ]
     },
     "execution_count": 34,
     "metadata": {},
     "output_type": "execute_result"
    }
   ],
   "source": [
    "backups[1]"
   ]
  },
  {
   "cell_type": "code",
   "execution_count": 35,
   "metadata": {},
   "outputs": [
    {
     "data": {
      "text/plain": [
       "5"
      ]
     },
     "execution_count": 35,
     "metadata": {},
     "output_type": "execute_result"
    }
   ],
   "source": [
    "dyna_q_params['planning_steps']"
   ]
  },
  {
   "cell_type": "code",
   "execution_count": 36,
   "metadata": {},
   "outputs": [
    {
     "data": {
      "text/plain": [
       "array([  8029.2,  25813.2,  81508.8, 160779.6, 215378.4])"
      ]
     },
     "execution_count": 36,
     "metadata": {},
     "output_type": "execute_result"
    }
   ],
   "source": [
    "backups[1, :] *= dyna_q_params['planning_steps'] + 1\n",
    "backups[1, :]"
   ]
  },
  {
   "cell_type": "markdown",
   "metadata": {},
   "source": [
    "這邊比較不是那麼清楚作者為什麼還要再乘上這個倍數..."
   ]
  },
  {
   "cell_type": "markdown",
   "metadata": {},
   "source": [
    "繪製圖面"
   ]
  },
  {
   "cell_type": "code",
   "execution_count": 37,
   "metadata": {},
   "outputs": [
    {
     "data": {
      "image/png": "[encoded data removed]",
      "text/plain": [
       "<Figure size 1152x648 with 1 Axes>"
      ]
     },
     "metadata": {
      "needs_background": "light"
     },
     "output_type": "display_data"
    }
   ],
   "source": [
    "plt.figure(figsize=(16, 9))\n",
    "for i in range(0, len(method_names)):\n",
    "    plt.plot(np.arange(1, num_of_mazes + 1), backups[i, :], label=method_names[i])\n",
    "plt.xlabel('maze resolution factor')\n",
    "plt.ylabel('backups until optimal solution')\n",
    "plt.yscale('log')\n",
    "plt.legend()\n",
    "plt.show()"
   ]
  }
 ],
 "metadata": {
  "kernelspec": {
   "display_name": "Python 3",
   "language": "python",
   "name": "python3"
  },
  "language_info": {
   "codemirror_mode": {
    "name": "ipython",
    "version": 3
   },
   "file_extension": ".py",
   "mimetype": "text/x-python",
   "name": "python",
   "nbconvert_exporter": "python",
   "pygments_lexer": "ipython3",
   "version": "3.6.9"
  }
 },
 "nbformat": 4,
 "nbformat_minor": 4
}
