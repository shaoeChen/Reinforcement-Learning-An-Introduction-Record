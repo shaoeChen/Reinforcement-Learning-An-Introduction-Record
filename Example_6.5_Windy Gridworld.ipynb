{
 "cells": [
  {
   "cell_type": "markdown",
   "metadata": {},
   "source": [
    "這邊參考的主要來源是[ShangtongZhang](https://github.com/ShangtongZhang/reinforcement-learning-an-introduction/blob/master/chapter06/windy_grid_world.py)"
   ]
  },
  {
   "cell_type": "markdown",
   "metadata": {},
   "source": [
    "Example 6.5: Windy Gridworld\n",
    "![](https://i.imgur.com/MTwwarC.png)\n",
    "\n",
    "如上圖的小插圖所示，那是一個標準的gridworld，有開始(S)與目標(G)狀態，有一點不同：有一個側風在中間由下往上吹。那actions一樣是標準的那四個，上、下、右、左，但是到中間之後你的next state會被風往上吹而導致偏移，造成偏移的強度會依不同的column而有所不同。風吹的強度也在每個column上給出，一看你就知道會被吹幾格。舉例來說，如果你在目標(G)右邊的格子，然後你執行action是向左，那你就會被帶到目標(G)的上面一格。這是undiscounted episodic task，在你到達目標之前，你每次都會得到reward=-1。\n",
    "\n",
    "那個趨勢線則是你用$\\epsilon-$greedy Sarsa來處理這個任務的結果，其$\\epsilon=0.1, \\alpha=0.5$，然後所有的$s, a$的初始$Q(s,a)=0$。上圖可以看的到，斜率增加說明的是，隨著時間的推移，我們可以更快的到達目標(G)。在經過8000個time steps之後，greedy policy早就是optimal(插圖說明的就是它的trajectory)；一直是$\\epsilon-$greedy exploration的話，大概每個episodes都是平均17個steps可以完成，比最小15個steps還要多2個steps。注意到，這個任務用MC可能不是那麼輕鬆，因為不是所有的policies都能夠保證終止。如果曾經有policy被發現會導致agent停留在同一個state，那下一個episode它就永遠不會終止。像是Sarsa這種online learning methods不會有這樣的問題，因為它們會很快的在episode的期間學習，如果policies不夠好，那就換一個。"
   ]
  },
  {
   "cell_type": "markdown",
   "metadata": {},
   "source": [
    "$(S_t, A_t, R_{t+1}, S_{t+1}, A_{t+1})$，每個元素的第一個字拿出來，就是Sarsa，下面給出公式6.7做為參考：\n",
    "$$Q(S_t,A_t)\\leftarrow Q(S_t,A_t) + \\alpha[R_{t+1} + \\gamma Q(S_{t+1}, A_{t+1}) - Q(S_t, A_t)] \\tag{6.7}$$"
   ]
  },
  {
   "cell_type": "markdown",
   "metadata": {},
   "source": [
    "![](https://i.imgur.com/cpcvCNi.png)"
   ]
  },
  {
   "cell_type": "markdown",
   "metadata": {},
   "source": [
    "首先載入需求套件"
   ]
  },
  {
   "cell_type": "code",
   "execution_count": 1,
   "metadata": {},
   "outputs": [],
   "source": [
    "import numpy as np\n",
    "import matplotlib.pyplot as plt"
   ]
  },
  {
   "cell_type": "markdown",
   "metadata": {},
   "source": [
    "首先定義環境參數"
   ]
  },
  {
   "cell_type": "code",
   "execution_count": 2,
   "metadata": {},
   "outputs": [],
   "source": [
    "WORLD_HEIGHT = 7\n",
    "WORLD_WIDTH = 10"
   ]
  },
  {
   "cell_type": "markdown",
   "metadata": {},
   "source": [
    "定義風速在每個column的影響"
   ]
  },
  {
   "cell_type": "code",
   "execution_count": 3,
   "metadata": {},
   "outputs": [],
   "source": [
    "WIND = [0, 0, 0, 1, 1, 1, 2, 2, 1, 0]"
   ]
  },
  {
   "cell_type": "markdown",
   "metadata": {},
   "source": [
    "定義ACTION"
   ]
  },
  {
   "cell_type": "code",
   "execution_count": 4,
   "metadata": {},
   "outputs": [
    {
     "data": {
      "text/plain": [
       "[0, 1, 2, 3]"
      ]
     },
     "execution_count": 4,
     "metadata": {},
     "output_type": "execute_result"
    }
   ],
   "source": [
    "ACTION_UP = 0\n",
    "ACTION_DOWN = 1\n",
    "ACTION_LEFT = 2\n",
    "ACTION_RIGHT = 3\n",
    "ACTIONS = [ACTION_UP, ACTION_DOWN, ACTION_LEFT, ACTION_RIGHT]\n",
    "ACTIONS"
   ]
  },
  {
   "cell_type": "markdown",
   "metadata": {},
   "source": [
    "定義$\\epsilon$，這代表著你的agent去探索其它非最佳的action的機率"
   ]
  },
  {
   "cell_type": "code",
   "execution_count": 5,
   "metadata": {},
   "outputs": [],
   "source": [
    "EPSILON = 0.1"
   ]
  },
  {
   "cell_type": "markdown",
   "metadata": {},
   "source": [
    "定義step size，$\\alpha$"
   ]
  },
  {
   "cell_type": "code",
   "execution_count": 6,
   "metadata": {},
   "outputs": [],
   "source": [
    "ALPHA = 0.5"
   ]
  },
  {
   "cell_type": "markdown",
   "metadata": {},
   "source": [
    "定義REWARD，根據範例說明，每個time step都會-1"
   ]
  },
  {
   "cell_type": "code",
   "execution_count": 7,
   "metadata": {},
   "outputs": [],
   "source": [
    "REWARD = -1"
   ]
  },
  {
   "cell_type": "markdown",
   "metadata": {},
   "source": [
    "定義起始位置、結束位置"
   ]
  },
  {
   "cell_type": "code",
   "execution_count": 8,
   "metadata": {},
   "outputs": [],
   "source": [
    "START_STATE = [3, 0]\n",
    "GOAL_STATE = [3, 7]"
   ]
  },
  {
   "cell_type": "markdown",
   "metadata": {},
   "source": [
    "設置一個函數來定義每一個time step選擇action的結果"
   ]
  },
  {
   "cell_type": "code",
   "execution_count": 9,
   "metadata": {},
   "outputs": [],
   "source": [
    "def step(state, action):\n",
    "    \"\"\"每個time step的結果    \n",
    "    state: 當下的state\n",
    "    action: 選擇的action\n",
    "    \n",
    "    每次的移動都要考慮進去風對於移動的影響，\n",
    "    因此會做一個判斷，避免出界\n",
    "    \n",
    "    return:\n",
    "        next state\n",
    "    \"\"\"\n",
    "    i, j = state\n",
    "    if action == ACTION_UP:\n",
    "        # 往上，column不動，row要注意出界        \n",
    "        return [max(i - 1 - WIND[j], 0), j]\n",
    "    elif action == ACTION_DOWN:\n",
    "        # 往下，column不動，row要注意出界\n",
    "        # 取min是因為避免出下界\n",
    "        # 取max是怕風大太強吹出上界\n",
    "        return [max(min(i + 1 - WIND[j], WORLD_HEIGHT - 1), 0), j]\n",
    "    elif action == ACTION_LEFT:\n",
    "        # 往左，要考慮到風吹的影響，也要注意出界\n",
    "        return [max(i - WIND[j], 0), max(j - 1, 0)]\n",
    "    elif action == ACTION_RIGHT:\n",
    "        return [max(i - WIND[j], 0), min(j + 1, WORLD_WIDTH - 1)]\n",
    "    "
   ]
  },
  {
   "cell_type": "code",
   "execution_count": 10,
   "metadata": {},
   "outputs": [
    {
     "data": {
      "text/plain": [
       "([3, 0], [2, 0])"
      ]
     },
     "execution_count": 10,
     "metadata": {},
     "output_type": "execute_result"
    }
   ],
   "source": [
    "state = START_STATE\n",
    "action = ACTION_UP\n",
    "next_state = step(state, action)\n",
    "state, next_state"
   ]
  },
  {
   "cell_type": "markdown",
   "metadata": {},
   "source": [
    "設置一個函數來執行episode"
   ]
  },
  {
   "cell_type": "code",
   "execution_count": 11,
   "metadata": {},
   "outputs": [],
   "source": [
    "def episode(q_values):\n",
    "    time = 0\n",
    "    # 設置初始狀態\n",
    "    state = START_STATE\n",
    "    # 決定action\n",
    "    # 如果根據EPSILON的機率來抽真的抽到1，那就是探索，隨機從中選擇一個action\n",
    "    if np.random.binomial(1, EPSILON) == 1:\n",
    "        action = np.random.choice(ACTIONS)\n",
    "    else:\n",
    "        # 如果是greedy，那就從q_value裡面找一個最大的\n",
    "        # 如果有很多個最大值，那就隨便來一個吧\n",
    "        # 先取得該state的value，會分別記錄上、下、左、右的value\n",
    "        _values = q_values[state[0], state[1], :]\n",
    "        # 從中取最大值，np.random.choice的目的在於，如果有多個最大值就隨機取\n",
    "        # 下面的List comprehension說的是，對_values做for loop\n",
    "        # 然後如果_value是_values中最大的那個值，那就記錄_action\n",
    "        action = np.random.choice([_action for _action, _value in enumerate(_values) if _value == np.max(_values)])\n",
    "    \n",
    "    # 開始跑至GOAL STATE\n",
    "    while state != GOAL_STATE:\n",
    "        next_state = step(state, action)\n",
    "        # 利用next state來決定next action\n",
    "        if np.random.binomial(1, EPSILON) == 1:\n",
    "            next_action = np.random.choice(ACTIONS)\n",
    "        else:\n",
    "            _values = q_values[next_state[0], next_state[1], :]        \n",
    "            next_action = np.random.choice([_action for _action, _value in enumerate(_values) if _value == np.max(_values)])\n",
    "\n",
    "        # 每過一個time step就做一次的SARSA update\n",
    "        # 因為是undiscount，因此就沒有特別計算discount\n",
    "        q_values[state[0], state[1], action] += \\\n",
    "            ALPHA * (REWARD + \n",
    "                         q_values[next_state[0], next_state[1], next_action] - \n",
    "                             q_values[state[0], state[1], action])\n",
    "        state = next_state\n",
    "        action = next_action\n",
    "        time += 1\n",
    "    \n",
    "    return time"
   ]
  },
  {
   "cell_type": "code",
   "execution_count": 12,
   "metadata": {},
   "outputs": [],
   "source": [
    "q_value = np.random.randint(1, 10, (WORLD_HEIGHT, WORLD_WIDTH, 4))"
   ]
  },
  {
   "cell_type": "code",
   "execution_count": 13,
   "metadata": {},
   "outputs": [
    {
     "data": {
      "text/plain": [
       "array([6, 5, 1, 6])"
      ]
     },
     "execution_count": 13,
     "metadata": {},
     "output_type": "execute_result"
    }
   ],
   "source": [
    "_values = q_value[state[0], state[1], :]\n",
    "_values"
   ]
  },
  {
   "cell_type": "code",
   "execution_count": 14,
   "metadata": {},
   "outputs": [
    {
     "data": {
      "text/plain": [
       "[0, 3]"
      ]
     },
     "execution_count": 14,
     "metadata": {},
     "output_type": "execute_result"
    }
   ],
   "source": [
    "[_action for _action, _value in enumerate(_values) if _value == np.max(_values)]"
   ]
  },
  {
   "cell_type": "markdown",
   "metadata": {},
   "source": [
    "下面等價於上面的list comprehension"
   ]
  },
  {
   "cell_type": "code",
   "execution_count": 15,
   "metadata": {},
   "outputs": [
    {
     "name": "stdout",
     "output_type": "stream",
     "text": [
      "0 6\n",
      "3 6\n"
     ]
    }
   ],
   "source": [
    "for a, v in enumerate(_values):\n",
    "    if v == np.max(_values):\n",
    "        print(a, v)"
   ]
  },
  {
   "cell_type": "markdown",
   "metadata": {},
   "source": [
    "下面我們設置一個函數來執行"
   ]
  },
  {
   "cell_type": "code",
   "execution_count": 16,
   "metadata": {},
   "outputs": [],
   "source": [
    "def run(episodes):\n",
    "    # 那個4就是4個action\n",
    "    q_values = np.zeros((WORLD_HEIGHT, WORLD_WIDTH, 4))\n",
    "    # 記錄每個episode執行幾個time step\n",
    "    steps = []    \n",
    "    \n",
    "    # 跑500次\n",
    "    for i in range(episodes):\n",
    "        steps.append(episode(q_values))\n",
    "        \n",
    "    # 計算累加\n",
    "    steps = np.add.accumulate(steps)\n",
    "    \n",
    "    plt.plot(steps, np.arange(1, len(steps) + 1))\n",
    "    plt.xlabel('Time Steps')\n",
    "    plt.ylabel('Episodes')\n",
    "    \n",
    "    plt.show()\n",
    "    # 這樣寫應該不是很好，又是show圖又是回傳的\n",
    "    # 不過就只是為了方便\n",
    "    return q_values\n",
    "    "
   ]
  },
  {
   "cell_type": "code",
   "execution_count": 17,
   "metadata": {},
   "outputs": [
    {
     "data": {
      "image/png": "[encoded data removed]",
      "text/plain": [
       "<Figure size 432x288 with 1 Axes>"
      ]
     },
     "metadata": {
      "needs_background": "light"
     },
     "output_type": "display_data"
    }
   ],
   "source": [
    "q_values = run(8000)"
   ]
  },
  {
   "cell_type": "markdown",
   "metadata": {},
   "source": [
    "有了q values就可以決定control，做法很簡單，greedy"
   ]
  },
  {
   "cell_type": "code",
   "execution_count": 18,
   "metadata": {},
   "outputs": [
    {
     "name": "stdout",
     "output_type": "stream",
     "text": [
      "Optimal policy is:\n",
      "['D', 'U', 'R', 'R', 'R', 'R', 'R', 'R', 'R', 'D']\n",
      "['R', 'R', 'R', 'R', 'R', 'R', 'R', 'U', 'U', 'D']\n",
      "['R', 'U', 'R', 'R', 'R', 'R', 'R', 'R', 'R', 'D']\n",
      "['R', 'R', 'R', 'R', 'R', 'U', 'U', 'G', 'R', 'D']\n",
      "['R', 'R', 'R', 'R', 'R', 'R', 'U', 'D', 'L', 'L']\n",
      "['R', 'R', 'R', 'R', 'R', 'U', 'U', 'D', 'R', 'U']\n",
      "['R', 'R', 'R', 'R', 'U', 'U', 'U', 'U', 'U', 'L']\n",
      "Wind strength for each column:\n",
      "['0', '0', '0', '1', '1', '1', '2', '2', '1', '0']\n"
     ]
    }
   ],
   "source": [
    "optimal_policy = []\n",
    "for i in range(0, WORLD_HEIGHT):\n",
    "    optimal_policy.append([])\n",
    "    for j in range(0, WORLD_WIDTH):\n",
    "        if [i, j] == GOAL_STATE:\n",
    "            optimal_policy[-1].append('G')\n",
    "            continue\n",
    "        bestAction = np.argmax(q_values[i, j, :])\n",
    "        if bestAction == ACTION_UP:\n",
    "            optimal_policy[-1].append('U')\n",
    "        elif bestAction == ACTION_DOWN:\n",
    "            optimal_policy[-1].append('D')\n",
    "        elif bestAction == ACTION_LEFT:\n",
    "            optimal_policy[-1].append('L')\n",
    "        elif bestAction == ACTION_RIGHT:\n",
    "            optimal_policy[-1].append('R')\n",
    "print('Optimal policy:')\n",
    "for row in optimal_policy:\n",
    "    print(row)\n",
    "print('Wind strength for each column:\\n{}'.format([str(w) for w in WIND]))"
   ]
  }
 ],
 "metadata": {
  "kernelspec": {
   "display_name": "Python 3",
   "language": "python",
   "name": "python3"
  },
  "language_info": {
   "codemirror_mode": {
    "name": "ipython",
    "version": 3
   },
   "file_extension": ".py",
   "mimetype": "text/x-python",
   "name": "python",
   "nbconvert_exporter": "python",
   "pygments_lexer": "ipython3",
   "version": "3.6.9"
  }
 },
 "nbformat": 4,
 "nbformat_minor": 4
}
